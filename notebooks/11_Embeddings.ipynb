{
  "nbformat": 4,
  "nbformat_minor": 0,
  "metadata": {
    "colab": {
      "name": "11_Embeddings",
      "provenance": [],
      "collapsed_sections": [],
      "toc_visible": true
    },
    "kernelspec": {
      "name": "python3",
      "display_name": "Python 3"
    },
    "accelerator": "GPU"
  },
  "cells": [
    {
      "cell_type": "markdown",
      "metadata": {
        "id": "eTdCMVl9YAXw",
        "colab_type": "text"
      },
      "source": [
        "<a href=\"https://practicalai.me\"><img src=\"https://raw.githubusercontent.com/practicalAI/images/master/images/rounded_logo.png\" width=\"100\" align=\"left\" hspace=\"20px\" vspace=\"20px\"></a>\n",
        "\n",
        "<img src=\"https://raw.githubusercontent.com/practicalAI/images/master/images/11_Embeddings/skipgram.png\" width=\"250\" align=\"right\">\n",
        "\n",
        "<div align=\"left\">\n",
        "<h1>Embeddings</h1>\n",
        "\n",
        "In this lesson we will learn how to map tokens to vectors (embeddings) that capture the contextual, semantic and syntactic value of a token in text."
      ]
    },
    {
      "cell_type": "markdown",
      "metadata": {
        "id": "xuabAj4PYj57",
        "colab_type": "text"
      },
      "source": [
        "<table align=\"center\">\n",
        "  <td>\n",
        "<img src=\"https://raw.githubusercontent.com/practicalAI/images/master/images/rounded_logo.png\" width=\"25\"><a target=\"_blank\" href=\"https://practicalai.me\"> View on practicalAI</a>\n",
        "  </td>\n",
        "  <td>\n",
        "<img src=\"https://raw.githubusercontent.com/practicalAI/images/master/images/colab_logo.png\" width=\"25\"><a target=\"_blank\" href=\"https://colab.research.google.com/github/practicalAI/practicalAI/blob/master/notebooks/11_Embeddings.ipynb\"> Run in Google Colab</a>\n",
        "  </td>\n",
        "  <td>\n",
        "<img src=\"https://raw.githubusercontent.com/practicalAI/images/master/images/github_logo.png\" width=\"22\"><a target=\"_blank\" href=\"https://github.com/practicalAI/practicalAI/blob/master/notebooks/11_Embeddings.ipynb\"> View code on GitHub</a>\n",
        "  </td>\n",
        "</table>"
      ]
    },
    {
      "cell_type": "markdown",
      "metadata": {
        "id": "JqxyljU18hvt",
        "colab_type": "text"
      },
      "source": [
        "So far, we've also represented our text data in a one-hot encoded form where each token is represented by an n-dimensional array.\n",
        " \n",
        " ```python\n",
        "[[0. 0. 0. ... 0. 0. 0.]\n",
        " [0. 0. 1. ... 0. 0. 0.]\n",
        " [0. 0. 0. ... 0. 0. 0.]\n",
        " ...\n",
        " [0. 0. 0. ... 0. 0. 0.]\n",
        " [0. 0. 0. ... 0. 0. 0.]\n",
        " [0. 0. 0. ... 0. 0. 0.]]\n",
        "```\n",
        "\n",
        "This allows us to preserve the structural information but there are two major disadvantages here. We used character level representations in the CNN lessons because the number of characters is small. Suppose we wanted to one-hot encode each word instead. Now the vocabulary sizes quickly grows leading to large computes. And though we preserve the structure within the text, the actual representation for each token does not preserve any relationship with respect to other tokens.\n",
        "\n",
        "In this notebook, we're going to learn about embeddings and how they address all the shortcomings of the representation methods we've seen so far.\n",
        "\n",
        "\n",
        "\n"
      ]
    },
    {
      "cell_type": "markdown",
      "metadata": {
        "id": "iOP-CR39jen0",
        "colab_type": "text"
      },
      "source": [
        "# Overview"
      ]
    },
    {
      "cell_type": "markdown",
      "metadata": {
        "id": "yN73ZCCnjezh",
        "colab_type": "text"
      },
      "source": [
        "* **Objective:**  Represent tokens in text that capture the intrinsic semantic relationships.\n",
        "* **Advantages:** \n",
        "    * Low-dimensionality while capturing relationships.\n",
        "    * Interpretable token representations\n",
        "* **Disadvantages:** None\n",
        "* **Miscellaneous:** There are lot's of pretrained embeddings to choose from but you can also train your own from scratch."
      ]
    },
    {
      "cell_type": "markdown",
      "metadata": {
        "id": "oSOqIKzckhfc",
        "colab_type": "text"
      },
      "source": [
        "# Set up"
      ]
    },
    {
      "cell_type": "code",
      "metadata": {
        "id": "vSPqM7rrkhE8",
        "colab_type": "code",
        "outputId": "6effb6f9-15e9-439d-be34-807372e04904",
        "colab": {
          "base_uri": "https://localhost:8080/",
          "height": 34
        }
      },
      "source": [
        "# Use TensorFlow 2.x\n",
        "%tensorflow_version 2.x"
      ],
      "execution_count": 1,
      "outputs": [
        {
          "output_type": "stream",
          "text": [
            "TensorFlow 2.x selected.\n"
          ],
          "name": "stdout"
        }
      ]
    },
    {
      "cell_type": "code",
      "metadata": {
        "id": "wKLO2_LM3RH_",
        "colab_type": "code",
        "outputId": "c351bc10-0c82-4eb5-fb9e-6c870c591b94",
        "colab": {
          "base_uri": "https://localhost:8080/",
          "height": 34
        }
      },
      "source": [
        "import os\n",
        "import numpy as np\n",
        "import tensorflow as tf\n",
        "print(\"GPU Available: \", tf.test.is_gpu_available())"
      ],
      "execution_count": 2,
      "outputs": [
        {
          "output_type": "stream",
          "text": [
            "GPU Available:  True\n"
          ],
          "name": "stdout"
        }
      ]
    },
    {
      "cell_type": "code",
      "metadata": {
        "id": "0Zwz1m7mknyd",
        "colab_type": "code",
        "colab": {}
      },
      "source": [
        "# Arguments\n",
        "SEED = 1234\n",
        "SHUFFLE = True\n",
        "FILTERS = \"!\\\"'#$%&()*+,-./:;<=>?@[\\\\]^_`{|}~\"\n",
        "LOWER = True\n",
        "CHAR_LEVEL = False"
      ],
      "execution_count": 0,
      "outputs": []
    },
    {
      "cell_type": "code",
      "metadata": {
        "id": "HgEiBe6DkpXV",
        "colab_type": "code",
        "colab": {}
      },
      "source": [
        "# Set seed for reproducability\n",
        "np.random.seed(SEED)\n",
        "tf.random.set_seed(SEED)"
      ],
      "execution_count": 0,
      "outputs": []
    },
    {
      "cell_type": "markdown",
      "metadata": {
        "id": "yjIUhBwxkBHc",
        "colab_type": "text"
      },
      "source": [
        "# Learning embeddings"
      ]
    },
    {
      "cell_type": "markdown",
      "metadata": {
        "id": "rozFTf06ji1b",
        "colab_type": "text"
      },
      "source": [
        "The main idea of embeddings is to have fixed length representations for the tokens in a text regardless of the number of tokens in the vocabulary. So instead of each token representation having the shape [1 X V] where V is vocab size, each token now has the shape [1 X D] where D is the embedding size (usually 50, 100, 200, 300). The numbers in the representation will no longer be 0s and 1s but rather floats that represent that token in a D-dimensional latent space. If the embeddings really did capture the relationship between tokens, then we should be able to inspect this latent space and confirm known relationships (we'll do this soon).\n",
        "\n",
        "But how do we learn the embeddings the first place? The intuition behind embeddings is that the definition of a token depends on the token itself but on it's context. There are several different ways of doing this:\n",
        "\n",
        "1. Given the word in the context, predict the target word (CBOW - continuous bag of words).\n",
        "2. Given the target word, predict the context word (skip-gram).\n",
        "3. Given a sequence of words, predict the next word (LM - language modeling).\n",
        "\n",
        "All of these approaches involve create data to train our model on. Every word in a sentence becomes the target word and the context words are determines by a window. In the image below (skip-gram), the window size is 2 (2 words to the left and right of the target word). We repeat this for every sentence in our corpus and this results in our training data for the unsupervised task. This in an unsupervised learning technique since we don't have official labels for contexts. The idea is that similar target words will appear with similar contexts and we can learn this relationship by repeatedly training our mode with (context, target) pairs.\n",
        "\n",
        "<img src=\"https://raw.githubusercontent.com/practicalAI/images/master/images/11_Embeddings/skipgram.png\" width=\"600\">\n",
        "\n",
        "We can learn embeddings using any of these approaches above and some work better than others. You can inspect the learned embeddings but the best way to choose an approach is to empirically validate the performance on a supervised task."
      ]
    },
    {
      "cell_type": "markdown",
      "metadata": {
        "id": "BZhlrMM1uaJ6",
        "colab_type": "text"
      },
      "source": [
        "# Word2Vec"
      ]
    },
    {
      "cell_type": "markdown",
      "metadata": {
        "id": "F47IiPgUupAk",
        "colab_type": "text"
      },
      "source": [
        "We can learn embeddings by creating our models in TensorFLow but instead, we're going to use a library that specializes in embeddings and topic modeling called [Gensim](https://radimrehurek.com/gensim/). "
      ]
    },
    {
      "cell_type": "code",
      "metadata": {
        "id": "LVvJNkSKlWzk",
        "colab_type": "code",
        "outputId": "d4da70fb-5fa6-497e-b454-a768d1886714",
        "colab": {
          "base_uri": "https://localhost:8080/",
          "height": 51
        }
      },
      "source": [
        "import gensim\n",
        "from gensim.models import KeyedVectors\n",
        "from gensim.models import FastText\n",
        "from gensim.test.utils import get_tmpfile\n",
        "import nltk; nltk.download('punkt')\n",
        "from tensorflow.keras.preprocessing.text import text_to_word_sequence\n",
        "import urllib\n",
        "import warnings; warnings.filterwarnings('ignore')"
      ],
      "execution_count": 5,
      "outputs": [
        {
          "output_type": "stream",
          "text": [
            "[nltk_data] Downloading package punkt to /root/nltk_data...\n",
            "[nltk_data]   Unzipping tokenizers/punkt.zip.\n"
          ],
          "name": "stdout"
        }
      ]
    },
    {
      "cell_type": "code",
      "metadata": {
        "id": "kYKmeuv6kJAD",
        "colab_type": "code",
        "colab": {}
      },
      "source": [
        "# Arguments\n",
        "DATA_FILE = 'harrypotter.txt'\n",
        "EMBEDDING_DIM = 100\n",
        "WINDOW = 5\n",
        "MIN_COUNT = 3 # Ignores all words with total frequency lower than this\n",
        "SKIP_GRAM = 1 # 0 = CBOW\n",
        "NEGATIVE_SAMPLING = 20"
      ],
      "execution_count": 0,
      "outputs": []
    },
    {
      "cell_type": "code",
      "metadata": {
        "id": "LegtLIr-lxxZ",
        "colab_type": "code",
        "colab": {}
      },
      "source": [
        "# Upload data from GitHub to notebook's local drive\n",
        "url = \"https://raw.githubusercontent.com/practicalAI/practicalAI/master/data/harrypotter.txt\"\n",
        "response = urllib.request.urlopen(url)\n",
        "html = response.read()\n",
        "with open(DATA_FILE, 'wb') as fp:\n",
        "    fp.write(html)"
      ],
      "execution_count": 0,
      "outputs": []
    },
    {
      "cell_type": "code",
      "metadata": {
        "id": "vF5D_nNjlx2d",
        "colab_type": "code",
        "outputId": "afb82844-2276-4542-d5f7-61dc5e83aaac",
        "colab": {
          "base_uri": "https://localhost:8080/",
          "height": 51
        }
      },
      "source": [
        "# Split text into sentences\n",
        "tokenizer = nltk.data.load('tokenizers/punkt/english.pickle')\n",
        "with open(DATA_FILE, encoding='cp1252') as fp:\n",
        "    book = fp.read()\n",
        "sentences = tokenizer.tokenize(book)\n",
        "print (len(sentences))\n",
        "print (sentences[11])"
      ],
      "execution_count": 8,
      "outputs": [
        {
          "output_type": "stream",
          "text": [
            "15640\n",
            "Snape nodded, but did not elaborate.\n"
          ],
          "name": "stdout"
        }
      ]
    },
    {
      "cell_type": "code",
      "metadata": {
        "id": "NsZz5jfMlx0d",
        "colab_type": "code",
        "outputId": "9c65165f-06e1-4e7e-e223-b21b6823b401",
        "colab": {
          "base_uri": "https://localhost:8080/",
          "height": 34
        }
      },
      "source": [
        "# Preprocess sentences\n",
        "sentences = [text_to_word_sequence(\n",
        "    text=sentence,\n",
        "    filters=FILTERS,\n",
        "    lower=LOWER,\n",
        "    split=' ') for sentence in sentences]\n",
        "print (sentences[11])"
      ],
      "execution_count": 9,
      "outputs": [
        {
          "output_type": "stream",
          "text": [
            "['snape', 'nodded', 'but', 'did', 'not', 'elaborate']\n"
          ],
          "name": "stdout"
        }
      ]
    },
    {
      "cell_type": "markdown",
      "metadata": {
        "id": "VeszvcMOji4u",
        "colab_type": "text"
      },
      "source": [
        "When we have large vocabularies to learn embeddings for, things can get complex very quickly. Recall that the backpropagation with softmax updates both the correct and incorrect class weights. This becomes a massive computation for every backwas pass we do so a workaround is to use [negative sampling](http://mccormickml.com/2017/01/11/word2vec-tutorial-part-2-negative-sampling/) which only updates the correct class and a few arbitrary incorrect classes (negative_sampling=20). We're able to do this because of the large amount of training data where we'll see the same word as the target class multiple times.\n",
        "\n"
      ]
    },
    {
      "cell_type": "code",
      "metadata": {
        "id": "Ha3I2oSsmhJa",
        "colab_type": "code",
        "outputId": "c7d41469-788d-4f76-dbec-2d7994634d29",
        "colab": {
          "base_uri": "https://localhost:8080/",
          "height": 34
        }
      },
      "source": [
        "# Super fast because of optimized C code under the hood\n",
        "w2v = gensim.models.Word2Vec(sentences=sentences, size=EMBEDDING_DIM, \n",
        "                             window=WINDOW, min_count=MIN_COUNT, \n",
        "                             sg=SKIP_GRAM, negative=NEGATIVE_SAMPLING)\n",
        "print (w2v)"
      ],
      "execution_count": 10,
      "outputs": [
        {
          "output_type": "stream",
          "text": [
            "Word2Vec(vocab=4963, size=100, alpha=0.025)\n"
          ],
          "name": "stdout"
        }
      ]
    },
    {
      "cell_type": "code",
      "metadata": {
        "id": "Cl6oJv8jmhHE",
        "colab_type": "code",
        "outputId": "95b772d1-e79d-46ae-a09a-c959679c0948",
        "colab": {
          "base_uri": "https://localhost:8080/",
          "height": 374
        }
      },
      "source": [
        "# Vector for each word\n",
        "w2v.wv.get_vector(\"potter\")"
      ],
      "execution_count": 11,
      "outputs": [
        {
          "output_type": "execute_result",
          "data": {
            "text/plain": [
              "array([ 0.15084217,  0.13705796,  0.23965293, -0.02775109, -0.12870483,\n",
              "        0.10343612,  0.11936715,  0.06283281,  0.32566255,  0.2959624 ,\n",
              "        0.4694637 ,  0.04122435,  0.09656719, -0.05427365, -0.10788797,\n",
              "       -0.02175392,  0.57813907,  0.04841102,  0.39841792, -0.01750858,\n",
              "        0.0592449 , -0.10498977, -0.29645777, -0.20408414, -0.063689  ,\n",
              "       -0.10009151, -0.35133523, -0.0872144 , -0.24457319,  0.29759392,\n",
              "       -0.4093383 , -0.37275356,  0.0440071 ,  0.03008361, -0.24179529,\n",
              "       -0.08881909, -0.13796206, -0.40826833, -0.01125353, -0.3181275 ,\n",
              "       -0.04164799,  0.05872981, -0.03018922,  0.0534426 ,  0.26192155,\n",
              "       -0.30446118, -0.30542514,  0.26205966,  0.3725973 ,  0.24522388,\n",
              "       -0.13399486,  0.0712282 , -0.5862857 ,  0.09795435, -0.47784102,\n",
              "       -0.03435729,  0.39924994,  0.20377865,  0.22092214, -0.19310077,\n",
              "        0.10236361,  0.01111186,  0.10014018,  0.05529214,  0.19012617,\n",
              "        0.00109139,  0.14768417,  0.16705877, -0.0500677 , -0.13725002,\n",
              "       -0.01225467, -0.47667435,  0.0644568 , -0.13771257,  0.10909976,\n",
              "       -0.04351163,  0.26104054,  0.42997754,  0.23504022, -0.3976249 ,\n",
              "       -0.15433961,  0.25122407,  0.0413951 ,  0.22834083,  0.15248089,\n",
              "        0.34259176,  0.3136082 , -0.17885484,  0.53498435,  0.13894436,\n",
              "       -0.2155322 , -0.18140729, -0.16036892, -0.01318709, -0.27774736,\n",
              "        0.5554768 ,  0.28562534, -0.11389014, -0.19887821,  0.1654813 ],\n",
              "      dtype=float32)"
            ]
          },
          "metadata": {
            "tags": []
          },
          "execution_count": 11
        }
      ]
    },
    {
      "cell_type": "code",
      "metadata": {
        "id": "DyuLX9DTnLvM",
        "colab_type": "code",
        "outputId": "acd7a885-cc2f-4611-d49a-c9ba533a57f5",
        "colab": {
          "base_uri": "https://localhost:8080/",
          "height": 102
        }
      },
      "source": [
        "# Get nearest neighbors (excluding itself)\n",
        "w2v.wv.most_similar(positive=\"scar\", topn=5)"
      ],
      "execution_count": 12,
      "outputs": [
        {
          "output_type": "execute_result",
          "data": {
            "text/plain": [
              "[('pain', 0.9374247789382935),\n",
              " ('forehead', 0.9309570789337158),\n",
              " ('mouth', 0.9206055402755737),\n",
              " ('shaking', 0.9201192259788513),\n",
              " ('burning', 0.9184731841087341)]"
            ]
          },
          "metadata": {
            "tags": []
          },
          "execution_count": 12
        }
      ]
    },
    {
      "cell_type": "code",
      "metadata": {
        "id": "YT7B0KRVTFew",
        "colab_type": "code",
        "colab": {}
      },
      "source": [
        "# Saving and loading\n",
        "w2v.wv.save_word2vec_format('model.bin', binary=True)\n",
        "w2v = KeyedVectors.load_word2vec_format('model.bin', binary=True)"
      ],
      "execution_count": 0,
      "outputs": []
    },
    {
      "cell_type": "markdown",
      "metadata": {
        "id": "JZXVP5vfuiD5",
        "colab_type": "text"
      },
      "source": [
        "# FastText"
      ]
    },
    {
      "cell_type": "markdown",
      "metadata": {
        "id": "uvuoeWYMuqsa",
        "colab_type": "text"
      },
      "source": [
        "What happen's when a word doesn't exist in our vocabulary? We could assign an UNK token which is used for all OOV (out of vocabulary) words or we could use [FastText](https://radimrehurek.com/gensim/models/fasttext.html), which uses character-level n-grams to embed a word. This helps embed rare words, mispelled words, and also words that don't exist in our corpus but are similar to words in our corpus."
      ]
    },
    {
      "cell_type": "code",
      "metadata": {
        "id": "eTNW4Mfgrpo0",
        "colab_type": "code",
        "outputId": "622c9d6e-7d0d-4fe2-cb79-9d11dfe8138a",
        "colab": {
          "base_uri": "https://localhost:8080/",
          "height": 34
        }
      },
      "source": [
        "# Super fast because of optimized C code under the hood\n",
        "ft = gensim.models.FastText(sentences=sentences, size=EMBEDDING_DIM, \n",
        "                            window=WINDOW, min_count=MIN_COUNT, \n",
        "                            sg=SKIP_GRAM, negative=NEGATIVE_SAMPLING)\n",
        "print (ft)"
      ],
      "execution_count": 14,
      "outputs": [
        {
          "output_type": "stream",
          "text": [
            "FastText(vocab=4963, size=100, alpha=0.025)\n"
          ],
          "name": "stdout"
        }
      ]
    },
    {
      "cell_type": "code",
      "metadata": {
        "id": "LbA4vU5uxiw3",
        "colab_type": "code",
        "colab": {}
      },
      "source": [
        "# This word doesn't exist so the word2vec model will error out\n",
        "# w2v.wv.most_similar(positive=\"scarring\", topn=5)"
      ],
      "execution_count": 0,
      "outputs": []
    },
    {
      "cell_type": "code",
      "metadata": {
        "id": "eRG30aE4sMjt",
        "colab_type": "code",
        "outputId": "d3416d80-97ce-4c4d-96a2-223948ba57ad",
        "colab": {
          "base_uri": "https://localhost:8080/",
          "height": 102
        }
      },
      "source": [
        "# FastText will use n-grams to embed an OOV word\n",
        "ft.wv.most_similar(positive=\"scarring\", topn=5)"
      ],
      "execution_count": 16,
      "outputs": [
        {
          "output_type": "execute_result",
          "data": {
            "text/plain": [
              "[('sparkling', 0.9798979759216309),\n",
              " ('trembling', 0.9788705110549927),\n",
              " ('spiraling', 0.9761584997177124),\n",
              " ('lightning', 0.9757795929908752),\n",
              " ('fluttering', 0.9737103581428528)]"
            ]
          },
          "metadata": {
            "tags": []
          },
          "execution_count": 16
        }
      ]
    },
    {
      "cell_type": "code",
      "metadata": {
        "id": "7SE5fPMUnLyP",
        "colab_type": "code",
        "colab": {}
      },
      "source": [
        "# Save and loading\n",
        "ft.wv.save('model.bin')\n",
        "ft = KeyedVectors.load('model.bin')"
      ],
      "execution_count": 0,
      "outputs": []
    },
    {
      "cell_type": "markdown",
      "metadata": {
        "id": "67UmjtK0pF9X",
        "colab_type": "text"
      },
      "source": [
        "# Pretrained embeddings"
      ]
    },
    {
      "cell_type": "markdown",
      "metadata": {
        "id": "Xm1GPn4spF6x",
        "colab_type": "text"
      },
      "source": [
        "We can learn embeddings from scratch using one of the approaches above but we can also leverage pretrained embeddings that have been trained on millions of documents. Popular ones include Word2Vec (skip-gram) or GloVe (global word-word co-occurrence). We can validate that these embeddings captured meaningful semantic relationships by confirming them."
      ]
    },
    {
      "cell_type": "code",
      "metadata": {
        "id": "Hh42Mb4lLbuB",
        "colab_type": "code",
        "colab": {}
      },
      "source": [
        "from gensim.scripts.glove2word2vec import glove2word2vec\n",
        "from io import BytesIO\n",
        "import matplotlib.pyplot as plt\n",
        "from sklearn.decomposition import PCA\n",
        "from urllib.request import urlopen\n",
        "from zipfile import ZipFile"
      ],
      "execution_count": 0,
      "outputs": []
    },
    {
      "cell_type": "markdown",
      "metadata": {
        "id": "CNxNo8eTMIdi",
        "colab_type": "text"
      },
      "source": [
        "### Components"
      ]
    },
    {
      "cell_type": "code",
      "metadata": {
        "id": "ANfQHxGrMKTe",
        "colab_type": "code",
        "colab": {}
      },
      "source": [
        "def plot_embeddings(words, embeddings, pca_results):\n",
        "    for word in words:\n",
        "        index = embeddings.index2word.index(word)\n",
        "        plt.scatter(pca_results[index, 0], pca_results[index, 1])\n",
        "        plt.annotate(word, xy=(pca_results[index, 0], pca_results[index, 1]))\n",
        "    plt.show()"
      ],
      "execution_count": 0,
      "outputs": []
    },
    {
      "cell_type": "markdown",
      "metadata": {
        "id": "PmYFnmaVMKYe",
        "colab_type": "text"
      },
      "source": [
        "### Operations"
      ]
    },
    {
      "cell_type": "code",
      "metadata": {
        "id": "m9gxHJA9M8hK",
        "colab_type": "code",
        "colab": {}
      },
      "source": [
        "# Arguments\n",
        "EMBEDDING_DIM = 100"
      ],
      "execution_count": 0,
      "outputs": []
    },
    {
      "cell_type": "code",
      "metadata": {
        "id": "ZW9Qtkz3LfdY",
        "colab_type": "code",
        "outputId": "110290ee-0370-4982-c7a3-90c2b5f000cc",
        "colab": {
          "base_uri": "https://localhost:8080/",
          "height": 85
        }
      },
      "source": [
        "# Unzip the file (may take ~3-5 minutes)\n",
        "resp = urlopen('http://nlp.stanford.edu/data/glove.6B.zip')\n",
        "zipfile = ZipFile(BytesIO(resp.read()))\n",
        "zipfile.namelist()"
      ],
      "execution_count": 21,
      "outputs": [
        {
          "output_type": "execute_result",
          "data": {
            "text/plain": [
              "['glove.6B.50d.txt',\n",
              " 'glove.6B.100d.txt',\n",
              " 'glove.6B.200d.txt',\n",
              " 'glove.6B.300d.txt']"
            ]
          },
          "metadata": {
            "tags": []
          },
          "execution_count": 21
        }
      ]
    },
    {
      "cell_type": "code",
      "metadata": {
        "id": "bWnVBrOaLjIC",
        "colab_type": "code",
        "outputId": "b984f539-1558-4967-cd3e-0391f908c566",
        "colab": {
          "base_uri": "https://localhost:8080/",
          "height": 34
        }
      },
      "source": [
        "# Write embeddings to file\n",
        "embeddings_file = 'glove.6B.{0}d.txt'.format(EMBEDDING_DIM)\n",
        "zipfile.extract(embeddings_file)"
      ],
      "execution_count": 22,
      "outputs": [
        {
          "output_type": "execute_result",
          "data": {
            "text/plain": [
              "'/content/glove.6B.100d.txt'"
            ]
          },
          "metadata": {
            "tags": []
          },
          "execution_count": 22
        }
      ]
    },
    {
      "cell_type": "code",
      "metadata": {
        "id": "qFLyIqIxrUIs",
        "colab_type": "code",
        "outputId": "88dd85bd-29cf-4fea-dfa9-d527e4fe5c04",
        "colab": {
          "base_uri": "https://localhost:8080/",
          "height": 323
        }
      },
      "source": [
        "# Preview of the GloVe embeddings file\n",
        "with open(embeddings_file, 'r') as fp:\n",
        "    line = next(fp)\n",
        "    values = line.split()\n",
        "    word = values[0]\n",
        "    embedding = np.asarray(values[1:], dtype='float32')\n",
        "    print (f\"word: {word}\")\n",
        "    print (f\"embedding:\\n{embedding}\")\n",
        "    print (f\"embedding dim: {len(embedding)}\")"
      ],
      "execution_count": 23,
      "outputs": [
        {
          "output_type": "stream",
          "text": [
            "word: the\n",
            "embedding:\n",
            "[-0.038194 -0.24487   0.72812  -0.39961   0.083172  0.043953 -0.39141\n",
            "  0.3344   -0.57545   0.087459  0.28787  -0.06731   0.30906  -0.26384\n",
            " -0.13231  -0.20757   0.33395  -0.33848  -0.31743  -0.48336   0.1464\n",
            " -0.37304   0.34577   0.052041  0.44946  -0.46971   0.02628  -0.54155\n",
            " -0.15518  -0.14107  -0.039722  0.28277   0.14393   0.23464  -0.31021\n",
            "  0.086173  0.20397   0.52624   0.17164  -0.082378 -0.71787  -0.41531\n",
            "  0.20335  -0.12763   0.41367   0.55187   0.57908  -0.33477  -0.36559\n",
            " -0.54857  -0.062892  0.26584   0.30205   0.99775  -0.80481  -3.0243\n",
            "  0.01254  -0.36942   2.2167    0.72201  -0.24978   0.92136   0.034514\n",
            "  0.46745   1.1079   -0.19358  -0.074575  0.23353  -0.052062 -0.22044\n",
            "  0.057162 -0.15806  -0.30798  -0.41625   0.37972   0.15006  -0.53212\n",
            " -0.2055   -1.2526    0.071624  0.70565   0.49744  -0.42063   0.26148\n",
            " -1.538    -0.30223  -0.073438 -0.28312   0.37104  -0.25217   0.016215\n",
            " -0.017099 -0.38984   0.87424  -0.72569  -0.51058  -0.52028  -0.1459\n",
            "  0.8278    0.27062 ]\n",
            "embedding dim: 100\n"
          ],
          "name": "stdout"
        }
      ]
    },
    {
      "cell_type": "code",
      "metadata": {
        "id": "9eD5doqFLjFY",
        "colab_type": "code",
        "outputId": "95389ce4-c69d-4411-f322-7ba961c3ed42",
        "colab": {
          "base_uri": "https://localhost:8080/",
          "height": 34
        }
      },
      "source": [
        "# Save GloVe embeddings to local directory in word2vec format\n",
        "word2vec_output_file = '{0}.word2vec'.format(embeddings_file)\n",
        "glove2word2vec(embeddings_file, word2vec_output_file)"
      ],
      "execution_count": 24,
      "outputs": [
        {
          "output_type": "execute_result",
          "data": {
            "text/plain": [
              "(400000, 100)"
            ]
          },
          "metadata": {
            "tags": []
          },
          "execution_count": 24
        }
      ]
    },
    {
      "cell_type": "code",
      "metadata": {
        "id": "To4sx_1iMCX0",
        "colab_type": "code",
        "colab": {}
      },
      "source": [
        "# Load embeddings (may take a minute)\n",
        "glove = KeyedVectors.load_word2vec_format(word2vec_output_file, binary=False)"
      ],
      "execution_count": 0,
      "outputs": []
    },
    {
      "cell_type": "code",
      "metadata": {
        "id": "UEhBhvgHMEH9",
        "colab_type": "code",
        "outputId": "255ce1e5-9a10-45dc-9b39-df4556751047",
        "colab": {
          "base_uri": "https://localhost:8080/",
          "height": 102
        }
      },
      "source": [
        "# (king - man) + woman = ?\n",
        "glove.most_similar(positive=['woman', 'king'], negative=['man'], topn=5)"
      ],
      "execution_count": 26,
      "outputs": [
        {
          "output_type": "execute_result",
          "data": {
            "text/plain": [
              "[('queen', 0.7698541283607483),\n",
              " ('monarch', 0.6843380928039551),\n",
              " ('throne', 0.6755735874176025),\n",
              " ('daughter', 0.6594556570053101),\n",
              " ('princess', 0.6520534753799438)]"
            ]
          },
          "metadata": {
            "tags": []
          },
          "execution_count": 26
        }
      ]
    },
    {
      "cell_type": "code",
      "metadata": {
        "id": "xR94AICkMEFV",
        "colab_type": "code",
        "outputId": "83ad7e1b-f250-40bb-f6a8-4be6537adbe8",
        "colab": {
          "base_uri": "https://localhost:8080/",
          "height": 102
        }
      },
      "source": [
        "# Get nearest neighbors (exlcusing itself)\n",
        "glove.wv.most_similar(positive=\"goku\", topn=5)"
      ],
      "execution_count": 27,
      "outputs": [
        {
          "output_type": "execute_result",
          "data": {
            "text/plain": [
              "[('gohan', 0.7246542572975159),\n",
              " ('bulma', 0.6497020125389099),\n",
              " ('raistlin', 0.6443604230880737),\n",
              " ('skaar', 0.6316742897033691),\n",
              " ('guybrush', 0.6231324672698975)]"
            ]
          },
          "metadata": {
            "tags": []
          },
          "execution_count": 27
        }
      ]
    },
    {
      "cell_type": "code",
      "metadata": {
        "id": "gseqjBmzMECq",
        "colab_type": "code",
        "colab": {}
      },
      "source": [
        "# Reduce dimensionality for plotting\n",
        "X = glove[glove.wv.vocab]\n",
        "pca = PCA(n_components=2)\n",
        "pca_results = pca.fit_transform(X)"
      ],
      "execution_count": 0,
      "outputs": []
    },
    {
      "cell_type": "code",
      "metadata": {
        "id": "LFQWGyncMHgK",
        "colab_type": "code",
        "outputId": "d0133aeb-6855-4fcd-a048-e7b7b12a1bbf",
        "colab": {
          "base_uri": "https://localhost:8080/",
          "height": 265
        }
      },
      "source": [
        "# Visualize\n",
        "plot_embeddings(words=[\"king\", \"queen\", \"man\", \"woman\"], \n",
        "                embeddings=glove, \n",
        "                pca_results=pca_results)"
      ],
      "execution_count": 29,
      "outputs": [
        {
          "output_type": "display_data",
          "data": {
            "image/png": "[encoded data removed]",
            "text/plain": [
              "<Figure size 432x288 with 1 Axes>"
            ]
          },
          "metadata": {
            "tags": []
          }
        }
      ]
    },
    {
      "cell_type": "code",
      "metadata": {
        "id": "MzrZ2_RBMHdn",
        "colab_type": "code",
        "outputId": "6b9abd12-a444-411f-e80d-27a598a58ce5",
        "colab": {
          "base_uri": "https://localhost:8080/",
          "height": 102
        }
      },
      "source": [
        "# Bias in embeddings\n",
        "glove.most_similar(positive=['woman', 'doctor'], negative=['man'], topn=5)"
      ],
      "execution_count": 30,
      "outputs": [
        {
          "output_type": "execute_result",
          "data": {
            "text/plain": [
              "[('nurse', 0.7735227346420288),\n",
              " ('physician', 0.7189429998397827),\n",
              " ('doctors', 0.6824328303337097),\n",
              " ('patient', 0.6750682592391968),\n",
              " ('dentist', 0.6726033687591553)]"
            ]
          },
          "metadata": {
            "tags": []
          },
          "execution_count": 30
        }
      ]
    },
    {
      "cell_type": "markdown",
      "metadata": {
        "id": "Ci4qkGddpF3t",
        "colab_type": "text"
      },
      "source": [
        "# Using Embeddings"
      ]
    },
    {
      "cell_type": "markdown",
      "metadata": {
        "id": "QdaK-gQ2z2Wi",
        "colab_type": "text"
      },
      "source": [
        "There are several different ways to use embeddings. \n",
        "\n",
        "1. Use your own trained embeddings (trained on an unsupervised dataset).\n",
        "2. Use pretrained embeddings (GloVe, word2vec, etc.)\n",
        "3. Randomly initialized embeddings.\n",
        "\n",
        "We will explore the different options by revisiting our AGNews classification task."
      ]
    },
    {
      "cell_type": "markdown",
      "metadata": {
        "id": "rmvSOsB-CuJb",
        "colab_type": "text"
      },
      "source": [
        "# Set up"
      ]
    },
    {
      "cell_type": "code",
      "metadata": {
        "id": "f-NnTT8LDjf3",
        "colab_type": "code",
        "colab": {}
      },
      "source": [
        "# Arguments\n",
        "SEED = 1234\n",
        "SHUFFLE = True\n",
        "DATA_FILE = 'news.csv'\n",
        "INPUT_FEATURE = 'title'\n",
        "OUTPUT_FEATURE = 'category'\n",
        "FILTERS = \"!\\\"'#$%&()*+,-./:;<=>?@[\\\\]^_`{|}~\"\n",
        "LOWER = True\n",
        "CHAR_LEVEL = False\n",
        "TRAIN_SIZE = 0.7\n",
        "VAL_SIZE = 0.15\n",
        "TEST_SIZE = 0.15\n",
        "NUM_EPOCHS = 10\n",
        "BATCH_SIZE = 64\n",
        "EMBEDDING_DIM = 100\n",
        "NUM_FILTERS = 50\n",
        "FILTER_SIZES = [2, 3, 4]\n",
        "HIDDEN_DIM = 100\n",
        "DROPOUT_P = 0.1\n",
        "LEARNING_RATE = 1e-3\n",
        "EARLY_STOPPING_CRITERIA = 3"
      ],
      "execution_count": 0,
      "outputs": []
    },
    {
      "cell_type": "markdown",
      "metadata": {
        "id": "c69z9wpJ56nE",
        "colab_type": "text"
      },
      "source": [
        "# Data"
      ]
    },
    {
      "cell_type": "markdown",
      "metadata": {
        "id": "2V_nEp5G58M0",
        "colab_type": "text"
      },
      "source": [
        "We will download the [AG News dataset](http://www.di.unipi.it/~gulli/AG_corpus_of_news_articles.html), which consists of 120000 text samples from 4 unique classes ('Business', 'Sci/Tech', 'Sports', 'World')"
      ]
    },
    {
      "cell_type": "code",
      "metadata": {
        "id": "y3qKSoEe57na",
        "colab_type": "code",
        "colab": {}
      },
      "source": [
        "import pandas as pd\n",
        "import re\n",
        "import urllib"
      ],
      "execution_count": 0,
      "outputs": []
    },
    {
      "cell_type": "code",
      "metadata": {
        "id": "cGQo98566GIV",
        "colab_type": "code",
        "colab": {}
      },
      "source": [
        "# Upload data from GitHub to notebook's local drive\n",
        "url = \"https://raw.githubusercontent.com/practicalAI/practicalAI/master/data/news.csv\"\n",
        "response = urllib.request.urlopen(url)\n",
        "html = response.read()\n",
        "with open(DATA_FILE, 'wb') as fp:\n",
        "    fp.write(html)"
      ],
      "execution_count": 0,
      "outputs": []
    },
    {
      "cell_type": "code",
      "metadata": {
        "id": "dG_Oltib6G-9",
        "colab_type": "code",
        "outputId": "8dd2b59f-0681-4b35-f97a-213f70d202fa",
        "colab": {
          "base_uri": "https://localhost:8080/",
          "height": 204
        }
      },
      "source": [
        "# Load data\n",
        "df = pd.read_csv(DATA_FILE, header=0)\n",
        "X = df[INPUT_FEATURE].values\n",
        "y = df[OUTPUT_FEATURE].values\n",
        "df.head(5)"
      ],
      "execution_count": 34,
      "outputs": [
        {
          "output_type": "execute_result",
          "data": {
            "text/html": [
              "<div>\n",
              "<style scoped>\n",
              "    .dataframe tbody tr th:only-of-type {\n",
              "        vertical-align: middle;\n",
              "    }\n",
              "\n",
              "    .dataframe tbody tr th {\n",
              "        vertical-align: top;\n",
              "    }\n",
              "\n",
              "    .dataframe thead th {\n",
              "        text-align: right;\n",
              "    }\n",
              "</style>\n",
              "<table border=\"1\" class=\"dataframe\">\n",
              "  <thead>\n",
              "    <tr style=\"text-align: right;\">\n",
              "      <th></th>\n",
              "      <th>title</th>\n",
              "      <th>category</th>\n",
              "    </tr>\n",
              "  </thead>\n",
              "  <tbody>\n",
              "    <tr>\n",
              "      <th>0</th>\n",
              "      <td>Wall St. Bears Claw Back Into the Black (Reuters)</td>\n",
              "      <td>Business</td>\n",
              "    </tr>\n",
              "    <tr>\n",
              "      <th>1</th>\n",
              "      <td>Carlyle Looks Toward Commercial Aerospace (Reu...</td>\n",
              "      <td>Business</td>\n",
              "    </tr>\n",
              "    <tr>\n",
              "      <th>2</th>\n",
              "      <td>Oil and Economy Cloud Stocks' Outlook (Reuters)</td>\n",
              "      <td>Business</td>\n",
              "    </tr>\n",
              "    <tr>\n",
              "      <th>3</th>\n",
              "      <td>Iraq Halts Oil Exports from Main Southern Pipe...</td>\n",
              "      <td>Business</td>\n",
              "    </tr>\n",
              "    <tr>\n",
              "      <th>4</th>\n",
              "      <td>Oil prices soar to all-time record, posing new...</td>\n",
              "      <td>Business</td>\n",
              "    </tr>\n",
              "  </tbody>\n",
              "</table>\n",
              "</div>"
            ],
            "text/plain": [
              "                                               title  category\n",
              "0  Wall St. Bears Claw Back Into the Black (Reuters)  Business\n",
              "1  Carlyle Looks Toward Commercial Aerospace (Reu...  Business\n",
              "2    Oil and Economy Cloud Stocks' Outlook (Reuters)  Business\n",
              "3  Iraq Halts Oil Exports from Main Southern Pipe...  Business\n",
              "4  Oil prices soar to all-time record, posing new...  Business"
            ]
          },
          "metadata": {
            "tags": []
          },
          "execution_count": 34
        }
      ]
    },
    {
      "cell_type": "markdown",
      "metadata": {
        "id": "hxo6RKCQ71dl",
        "colab_type": "text"
      },
      "source": [
        "# Split data"
      ]
    },
    {
      "cell_type": "code",
      "metadata": {
        "id": "eS6kCcfY6IHE",
        "colab_type": "code",
        "colab": {}
      },
      "source": [
        "import collections\n",
        "from sklearn.model_selection import train_test_split"
      ],
      "execution_count": 0,
      "outputs": []
    },
    {
      "cell_type": "markdown",
      "metadata": {
        "id": "kfr_NTy8WYt3",
        "colab_type": "text"
      },
      "source": [
        "### Components"
      ]
    },
    {
      "cell_type": "code",
      "metadata": {
        "id": "-ZFVitqVWY4J",
        "colab_type": "code",
        "colab": {}
      },
      "source": [
        "def train_val_test_split(X, y, val_size, test_size, shuffle):\n",
        "    \"\"\"Split data into train/val/test datasets.\n",
        "    \"\"\"\n",
        "    X_train, X_test, y_train, y_test = train_test_split(\n",
        "        X, y, test_size=test_size, stratify=y, shuffle=shuffle)\n",
        "    X_train, X_val, y_train, y_val = train_test_split(\n",
        "        X_train, y_train, test_size=val_size, stratify=y_train, shuffle=shuffle)\n",
        "    return X_train, X_val, X_test, y_train, y_val, y_test"
      ],
      "execution_count": 0,
      "outputs": []
    },
    {
      "cell_type": "markdown",
      "metadata": {
        "id": "8XIdYU_n7536",
        "colab_type": "text"
      },
      "source": [
        "### Operations"
      ]
    },
    {
      "cell_type": "code",
      "metadata": {
        "id": "kqiQd2j_76gP",
        "colab_type": "code",
        "outputId": "a56ce24b-c42d-477e-aca3-acef34b388bd",
        "colab": {
          "base_uri": "https://localhost:8080/",
          "height": 119
        }
      },
      "source": [
        "# Create data splits\n",
        "X_train, X_val, X_test, y_train, y_val, y_test = train_val_test_split(\n",
        "    X=X, y=y, val_size=VAL_SIZE, test_size=TEST_SIZE, shuffle=SHUFFLE)\n",
        "class_counts = dict(collections.Counter(y))\n",
        "print (f\"X_train: {X_train.shape}, y_train: {y_train.shape}\")\n",
        "print (f\"X_val: {X_val.shape}, y_val: {y_val.shape}\")\n",
        "print (f\"X_test: {X_test.shape}, y_test: {y_test.shape}\")\n",
        "print (f\"X_train[0]: {X_train[0]}\")\n",
        "print (f\"y_train[0]: {y_train[0]}\")\n",
        "print (f\"Classes: {class_counts}\")"
      ],
      "execution_count": 37,
      "outputs": [
        {
          "output_type": "stream",
          "text": [
            "X_train: (86700,), y_train: (86700,)\n",
            "X_val: (15300,), y_val: (15300,)\n",
            "X_test: (18000,), y_test: (18000,)\n",
            "X_train[0]: Last call for Jack Daniel #39;s?\n",
            "y_train[0]: Business\n",
            "Classes: {'Business': 30000, 'Sci/Tech': 30000, 'Sports': 30000, 'World': 30000}\n"
          ],
          "name": "stdout"
        }
      ]
    },
    {
      "cell_type": "markdown",
      "metadata": {
        "id": "dIfmW7vJ8Jx1",
        "colab_type": "text"
      },
      "source": [
        "# Tokenizer"
      ]
    },
    {
      "cell_type": "markdown",
      "metadata": {
        "id": "JP4VCO0LAJUt",
        "colab_type": "text"
      },
      "source": [
        "Unlike the previous notebook, we will be processing our text at a word-level (as opposed to character-level)."
      ]
    },
    {
      "cell_type": "code",
      "metadata": {
        "id": "DHPAxkKR7736",
        "colab_type": "code",
        "colab": {}
      },
      "source": [
        "from tensorflow.keras.preprocessing.text import Tokenizer\n",
        "from tensorflow.keras.utils import to_categorical"
      ],
      "execution_count": 0,
      "outputs": []
    },
    {
      "cell_type": "markdown",
      "metadata": {
        "id": "dAdGiy7cbUo4",
        "colab_type": "text"
      },
      "source": [
        "### Components"
      ]
    },
    {
      "cell_type": "code",
      "metadata": {
        "id": "dMg5QhVybVfL",
        "colab_type": "code",
        "colab": {}
      },
      "source": [
        "def untokenize(indices, tokenizer):\n",
        "    \"\"\"Untokenize a list of indices into string.\"\"\"\n",
        "    return \" \".join([tokenizer.index_word[index] for index in indices])"
      ],
      "execution_count": 0,
      "outputs": []
    },
    {
      "cell_type": "markdown",
      "metadata": {
        "id": "_BD3XPKF8L84",
        "colab_type": "text"
      },
      "source": [
        "### Operations"
      ]
    },
    {
      "cell_type": "code",
      "metadata": {
        "id": "WcscM_vL8KvP",
        "colab_type": "code",
        "colab": {}
      },
      "source": [
        "# Input vectorizer\n",
        "X_tokenizer = Tokenizer(filters=FILTERS,\n",
        "                        lower=LOWER,\n",
        "                        char_level=CHAR_LEVEL,\n",
        "                        oov_token='<UNK>')"
      ],
      "execution_count": 0,
      "outputs": []
    },
    {
      "cell_type": "code",
      "metadata": {
        "id": "xV2JgpOA8PwO",
        "colab_type": "code",
        "outputId": "836c885c-f167-4742-8232-e22c0b6c9d26",
        "colab": {
          "base_uri": "https://localhost:8080/",
          "height": 34
        }
      },
      "source": [
        "# Fit only on train data\n",
        "X_tokenizer.fit_on_texts(X_train)\n",
        "vocab_size = len(X_tokenizer.word_index) + 1\n",
        "print (f\"# tokens: {vocab_size}\")"
      ],
      "execution_count": 41,
      "outputs": [
        {
          "output_type": "stream",
          "text": [
            "# tokens: 29917\n"
          ],
          "name": "stdout"
        }
      ]
    },
    {
      "cell_type": "code",
      "metadata": {
        "id": "ybb-YZSz8Qno",
        "colab_type": "code",
        "outputId": "0d2c8be5-1e43-44dc-f59a-bd8c63088eae",
        "colab": {
          "base_uri": "https://localhost:8080/",
          "height": 68
        }
      },
      "source": [
        "# Convert text to sequence of tokens\n",
        "original_text = X_train[0]\n",
        "X_train = np.array(X_tokenizer.texts_to_sequences(X_train))\n",
        "X_val = np.array(X_tokenizer.texts_to_sequences(X_val))\n",
        "X_test = np.array(X_tokenizer.texts_to_sequences(X_test))\n",
        "preprocessed_text = untokenize(X_train[0], X_tokenizer)\n",
        "print (f\"{original_text} \\n\\t→ {preprocessed_text} \\n\\t→ {X_train[0]}\")"
      ],
      "execution_count": 42,
      "outputs": [
        {
          "output_type": "stream",
          "text": [
            "Last call for Jack Daniel #39;s? \n",
            "\t→ last call for jack daniel 39 s \n",
            "\t→ [316, 314, 5, 6877, 10686, 4, 6]\n"
          ],
          "name": "stdout"
        }
      ]
    },
    {
      "cell_type": "markdown",
      "metadata": {
        "id": "ORGuhjCf8TKh",
        "colab_type": "text"
      },
      "source": [
        "# LabelEncoder"
      ]
    },
    {
      "cell_type": "code",
      "metadata": {
        "id": "7aBBgzkW8Rxv",
        "colab_type": "code",
        "colab": {}
      },
      "source": [
        "from sklearn.preprocessing import LabelEncoder"
      ],
      "execution_count": 0,
      "outputs": []
    },
    {
      "cell_type": "markdown",
      "metadata": {
        "id": "z_jVCsl98U09",
        "colab_type": "text"
      },
      "source": [
        "### Operations"
      ]
    },
    {
      "cell_type": "code",
      "metadata": {
        "id": "ckM_MnQi8UTH",
        "colab_type": "code",
        "colab": {}
      },
      "source": [
        "# Output vectorizer\n",
        "y_tokenizer = LabelEncoder()"
      ],
      "execution_count": 0,
      "outputs": []
    },
    {
      "cell_type": "code",
      "metadata": {
        "id": "0-FkxqCT8WUk",
        "colab_type": "code",
        "outputId": "f0929fb1-3617-44e1-f7fe-8ff4447c4ab6",
        "colab": {
          "base_uri": "https://localhost:8080/",
          "height": 34
        }
      },
      "source": [
        "# Fit on train data\n",
        "y_tokenizer = y_tokenizer.fit(y_train)\n",
        "classes = list(y_tokenizer.classes_)\n",
        "print (f\"classes: {classes}\")"
      ],
      "execution_count": 45,
      "outputs": [
        {
          "output_type": "stream",
          "text": [
            "classes: ['Business', 'Sci/Tech', 'Sports', 'World']\n"
          ],
          "name": "stdout"
        }
      ]
    },
    {
      "cell_type": "code",
      "metadata": {
        "id": "yrLHd1i_8XAJ",
        "colab_type": "code",
        "outputId": "b7879bdf-dc44-452c-fded-6ed80c323954",
        "colab": {
          "base_uri": "https://localhost:8080/",
          "height": 34
        }
      },
      "source": [
        "# Convert labels to tokens\n",
        "y_train = y_tokenizer.transform(y_train)\n",
        "y_val = y_tokenizer.transform(y_val)\n",
        "y_test = y_tokenizer.transform(y_test)\n",
        "print (f\"y_train[0]: {y_train[0]}\")"
      ],
      "execution_count": 46,
      "outputs": [
        {
          "output_type": "stream",
          "text": [
            "y_train[0]: 0\n"
          ],
          "name": "stdout"
        }
      ]
    },
    {
      "cell_type": "code",
      "metadata": {
        "id": "DY91F44BR15z",
        "colab_type": "code",
        "outputId": "366c7c03-802f-4d46-a0b6-e70a97008ecf",
        "colab": {
          "base_uri": "https://localhost:8080/",
          "height": 51
        }
      },
      "source": [
        "# Class weights\n",
        "counts = np.bincount(y_train)\n",
        "class_weights = {i: 1.0/count for i, count in enumerate(counts)}\n",
        "print (f\"class counts: {counts},\\nclass weights: {class_weights}\")"
      ],
      "execution_count": 47,
      "outputs": [
        {
          "output_type": "stream",
          "text": [
            "class counts: [21675 21675 21675 21675],\n",
            "class weights: {0: 4.61361014994233e-05, 1: 4.61361014994233e-05, 2: 4.61361014994233e-05, 3: 4.61361014994233e-05}\n"
          ],
          "name": "stdout"
        }
      ]
    },
    {
      "cell_type": "markdown",
      "metadata": {
        "id": "eoWQk0hO9bK2",
        "colab_type": "text"
      },
      "source": [
        "# Generators"
      ]
    },
    {
      "cell_type": "code",
      "metadata": {
        "id": "GVxnbzgW8X1V",
        "colab_type": "code",
        "colab": {}
      },
      "source": [
        "import math\n",
        "from tensorflow.keras.preprocessing.sequence import pad_sequences\n",
        "from tensorflow.keras.utils import Sequence"
      ],
      "execution_count": 0,
      "outputs": []
    },
    {
      "cell_type": "markdown",
      "metadata": {
        "id": "IMtHyqex9gVI",
        "colab_type": "text"
      },
      "source": [
        "### Components"
      ]
    },
    {
      "cell_type": "code",
      "metadata": {
        "id": "1w6wVKJe9fxk",
        "colab_type": "code",
        "colab": {}
      },
      "source": [
        "class DataGenerator(Sequence):\n",
        "    \"\"\"Custom data loader.\"\"\"\n",
        "    def __init__(self, X, y, batch_size, max_filter_size, shuffle=True):\n",
        "        self.X = X\n",
        "        self.y = y\n",
        "        self.batch_size = batch_size\n",
        "        self.max_filter_size = max_filter_size\n",
        "        self.shuffle = shuffle\n",
        "        self.on_epoch_end()\n",
        "\n",
        "    def __len__(self):\n",
        "        \"\"\"# of batches.\"\"\"\n",
        "        return math.ceil(len(self.X) / self.batch_size)\n",
        "\n",
        "    def __str__(self):\n",
        "        return (f\"<DataGenerator(\" \\\n",
        "                f\"batch_size={self.batch_size}, \" \\\n",
        "                f\"batches={len(self)}, \" \\\n",
        "                f\"shuffle={self.shuffle})>\")\n",
        "\n",
        "    def __getitem__(self, index):\n",
        "        \"\"\"Generate a batch.\"\"\"\n",
        "        # Gather indices for this batch\n",
        "        batch_indices = self.epoch_indices[\n",
        "            index * self.batch_size:(index+1)*self.batch_size]\n",
        "\n",
        "        # Generate batch data\n",
        "        X, y = self.create_batch(batch_indices=batch_indices)\n",
        "\n",
        "        return X, y\n",
        "\n",
        "    def on_epoch_end(self):\n",
        "        \"\"\"Create indices after each epoch.\"\"\"\n",
        "        self.epoch_indices = np.arange(len(self.X))\n",
        "        if self.shuffle == True:\n",
        "            np.random.shuffle(self.epoch_indices)\n",
        "\n",
        "    def create_batch(self, batch_indices):\n",
        "        \"\"\"Generate batch from indices.\"\"\"\n",
        "        # Get batch data\n",
        "        X = self.X[batch_indices]\n",
        "        y = self.y[batch_indices]\n",
        "\n",
        "        # Pad batch\n",
        "        max_seq_len = max(self.max_filter_size, max([len(x) for x in X]))\n",
        "        X = pad_sequences(X, padding=\"post\", maxlen=max_seq_len)\n",
        "\n",
        "        return X, y"
      ],
      "execution_count": 0,
      "outputs": []
    },
    {
      "cell_type": "markdown",
      "metadata": {
        "id": "u37JyFYV9ilS",
        "colab_type": "text"
      },
      "source": [
        "### Operations"
      ]
    },
    {
      "cell_type": "code",
      "metadata": {
        "id": "5T8mVj9d9hNI",
        "colab_type": "code",
        "colab": {}
      },
      "source": [
        "# Dataset generator\n",
        "training_generator = DataGenerator(X=X_train,\n",
        "                                   y=y_train,\n",
        "                                   batch_size=BATCH_SIZE,\n",
        "                                   max_filter_size=max(FILTER_SIZES),\n",
        "                                   shuffle=SHUFFLE)\n",
        "validation_generator = DataGenerator(X=X_val,\n",
        "                                     y=y_val,\n",
        "                                     batch_size=BATCH_SIZE,\n",
        "                                     max_filter_size=max(FILTER_SIZES),\n",
        "                                     shuffle=False)\n",
        "testing_generator = DataGenerator(X=X_test,\n",
        "                                  y=y_test,\n",
        "                                  batch_size=BATCH_SIZE,\n",
        "                                  max_filter_size=max(FILTER_SIZES),\n",
        "                                  shuffle=False)"
      ],
      "execution_count": 0,
      "outputs": []
    },
    {
      "cell_type": "code",
      "metadata": {
        "id": "drbY5WDX9kcL",
        "colab_type": "code",
        "outputId": "443af08f-fc32-442c-fcfe-1ae0c63f0fae",
        "colab": {
          "base_uri": "https://localhost:8080/",
          "height": 68
        }
      },
      "source": [
        "print (f\"training_generator: {training_generator}\")\n",
        "print (f\"validation_generator: {validation_generator}\")\n",
        "print (f\"testing_generator: {testing_generator}\")"
      ],
      "execution_count": 51,
      "outputs": [
        {
          "output_type": "stream",
          "text": [
            "training_generator: <DataGenerator(batch_size=64, batches=1355, shuffle=True)>\n",
            "validation_generator: <DataGenerator(batch_size=64, batches=240, shuffle=False)>\n",
            "testing_generator: <DataGenerator(batch_size=64, batches=282, shuffle=False)>\n"
          ],
          "name": "stdout"
        }
      ]
    },
    {
      "cell_type": "markdown",
      "metadata": {
        "id": "pfhjWZRD94hK",
        "colab_type": "text"
      },
      "source": [
        "# Model"
      ]
    },
    {
      "cell_type": "markdown",
      "metadata": {
        "id": "eI5xEaMN-vT9",
        "colab_type": "text"
      },
      "source": [
        "Let's visualize the model's forward pass.\n",
        "\n",
        "1. We'll first tokenize our inputs (`batch_size`, `max_seq_len`).\n",
        "2. Then we'll embed our tokenized inputs (`batch_size`, `max_seq_len`, `embedding_dim`).\n",
        "3. We'll apply convolution via filters (`filter_size`, `vocab_size`, `num_filters`) followed by batch normalization. Our filters act as character level n-gram detecors. We have three different filter sizes (2, 3 and 4) and they will act as bi-gram, tri-gram and 4-gram feature extractors, respectivelyy. \n",
        "4. We'll apply 1D global max pooling which will extract the most relevant information from the feature maps for making the decision.\n",
        "5. We feed the pool outputs to a fully-connected (FC) layer (with dropout).\n",
        "6. We use one more FC layer with softmax to derive class probabilities. "
      ]
    },
    {
      "cell_type": "markdown",
      "metadata": {
        "id": "zVmJGm8m-KIz",
        "colab_type": "text"
      },
      "source": [
        "<img src=\"https://raw.githubusercontent.com/practicalAI/images/master/images/11_Embeddings/forward_pass.png\" width=\"1000\">"
      ]
    },
    {
      "cell_type": "markdown",
      "metadata": {
        "id": "JrVDcLC9kNMq",
        "colab_type": "text"
      },
      "source": [
        "The `FILTER_SIZES` are [2, 3, 4] which effectively act as bi-gram, tri-gram and 4th-gram feature extractors when applied to our text."
      ]
    },
    {
      "cell_type": "code",
      "metadata": {
        "id": "T8oCutDJ-d1J",
        "colab_type": "code",
        "colab": {}
      },
      "source": [
        "from tensorflow.keras.layers import Concatenate\n",
        "from tensorflow.keras.layers import Conv1D\n",
        "from tensorflow.keras.layers import Dense\n",
        "from tensorflow.keras.layers import Dropout\n",
        "from tensorflow.keras.layers import Embedding\n",
        "from tensorflow.keras.layers import GlobalMaxPool1D\n",
        "from tensorflow.keras.layers import Input\n",
        "from tensorflow.keras.losses import SparseCategoricalCrossentropy\n",
        "from tensorflow.keras.models import Model\n",
        "from tensorflow.keras.optimizers import Adam"
      ],
      "execution_count": 0,
      "outputs": []
    },
    {
      "cell_type": "markdown",
      "metadata": {
        "id": "6B2MewCdCeKC",
        "colab_type": "text"
      },
      "source": [
        "### Components"
      ]
    },
    {
      "cell_type": "code",
      "metadata": {
        "id": "UPP5ROd69mXC",
        "colab_type": "code",
        "colab": {}
      },
      "source": [
        "class TextClassificationCNNModel(Model):\n",
        "    def __init__(self, vocab_size, embedding_dim, filter_sizes, num_filters,\n",
        "                 hidden_dim, dropout_p, num_classes, freeze_embeddings=False):\n",
        "        super(TextClassificationCNNModel, self).__init__()\n",
        "\n",
        "        # Embeddings\n",
        "        self.embedding = Embedding(input_dim=vocab_size,\n",
        "                                   output_dim=embedding_dim,\n",
        "                                   trainable=not freeze_embeddings)\n",
        "        # Convolutional filters\n",
        "        self.convs = []\n",
        "        self.pools = []\n",
        "        for filter_size in filter_sizes:\n",
        "            conv = Conv1D(filters=num_filters, kernel_size=filter_size, \n",
        "                          padding='same', activation='relu')\n",
        "            pool = GlobalMaxPool1D(data_format='channels_last')\n",
        "            self.convs.append(conv)\n",
        "            self.pools.append(pool)\n",
        "\n",
        "        # Concatenation\n",
        "        self.concat = Concatenate(axis=1)\n",
        "\n",
        "        # FC layers\n",
        "        self.fc1 = Dense(units=hidden_dim, activation='relu')\n",
        "        self.dropout = Dropout(rate=dropout_p)\n",
        "        self.fc2 = Dense(units=num_classes, activation='softmax')\n",
        "\n",
        "    def call(self, x_in, training=False):\n",
        "        \"\"\"Forward pass.\"\"\"\n",
        "\n",
        "        # Embed\n",
        "        x_emb = self.embedding(x_in)\n",
        "\n",
        "        # Convolutions\n",
        "        convs = []\n",
        "        for i in range(len(self.convs)):\n",
        "            z = self.convs[i](x_emb)\n",
        "            z = self.pools[i](z)\n",
        "            convs.append(z)\n",
        "\n",
        "        # Concatenate\n",
        "        z_cat = self.concat(convs)\n",
        "\n",
        "        # FC\n",
        "        z = self.fc1(z_cat)\n",
        "        if training:\n",
        "            z = self.dropout(z, training=training)\n",
        "        y_pred = self.fc2(z)\n",
        "\n",
        "        return y_pred\n",
        "\n",
        "    def sample(self, input_shape):\n",
        "        x = Input(shape=input_shape)\n",
        "        return Model(inputs=x, outputs=self.call(x)).summary()"
      ],
      "execution_count": 0,
      "outputs": []
    },
    {
      "cell_type": "markdown",
      "metadata": {
        "id": "QBmYu6wjkgf0",
        "colab_type": "text"
      },
      "source": [
        "# GloVe embeddings"
      ]
    },
    {
      "cell_type": "markdown",
      "metadata": {
        "id": "3gRcURJfWluw",
        "colab_type": "text"
      },
      "source": [
        "### Components"
      ]
    },
    {
      "cell_type": "code",
      "metadata": {
        "id": "x9uev5AGsuqq",
        "colab_type": "code",
        "colab": {}
      },
      "source": [
        "def load_glove_embeddings(embeddings_file):\n",
        "    \"\"\"Load embeddings from a file.\"\"\"\n",
        "    embeddings = {}\n",
        "    with open(embeddings_file, \"r\") as fp:\n",
        "        for index, line in enumerate(fp):\n",
        "            values = line.split()\n",
        "            word = values[0]\n",
        "            embedding = np.asarray(values[1:], dtype='float32')\n",
        "            embeddings[word] = embedding\n",
        "    return embeddings"
      ],
      "execution_count": 0,
      "outputs": []
    },
    {
      "cell_type": "code",
      "metadata": {
        "id": "tQHD-ThwWnjD",
        "colab_type": "code",
        "colab": {}
      },
      "source": [
        "def make_embeddings_matrix(embeddings, word_index, embedding_dim):\n",
        "    \"\"\"Create embeddings matrix to use in Embedding layer.\"\"\"\n",
        "    embedding_matrix = np.zeros((len(word_index) + 1, embedding_dim))\n",
        "    for word, i in word_index.items():\n",
        "        embedding_vector = embeddings.get(word)\n",
        "        if embedding_vector is not None:\n",
        "            embedding_matrix[i] = embedding_vector\n",
        "    return embedding_matrix"
      ],
      "execution_count": 0,
      "outputs": []
    },
    {
      "cell_type": "markdown",
      "metadata": {
        "id": "WVMJQyYsLlXu",
        "colab_type": "text"
      },
      "source": [
        "### Operations"
      ]
    },
    {
      "cell_type": "code",
      "metadata": {
        "id": "9WxP2GR3LmrO",
        "colab_type": "code",
        "outputId": "aefa7cea-1edb-4ce6-dff2-cc48305cf01e",
        "colab": {
          "base_uri": "https://localhost:8080/",
          "height": 34
        }
      },
      "source": [
        "# Create embeddings\n",
        "embeddings_file = 'glove.6B.{0}d.txt'.format(EMBEDDING_DIM)\n",
        "glove_embeddings = load_glove_embeddings(embeddings_file=embeddings_file)\n",
        "embedding_matrix = make_embeddings_matrix(embeddings=glove_embeddings, \n",
        "                                          word_index=X_tokenizer.word_index, \n",
        "                                          embedding_dim=EMBEDDING_DIM)\n",
        "print (f\"<Embeddings(words={embedding_matrix.shape[0]}, dim={embedding_matrix.shape[1]})>\")"
      ],
      "execution_count": 56,
      "outputs": [
        {
          "output_type": "stream",
          "text": [
            "<Embeddings(words=29917, dim=100)>\n"
          ],
          "name": "stdout"
        }
      ]
    },
    {
      "cell_type": "markdown",
      "metadata": {
        "id": "C26maF-9Goit",
        "colab_type": "text"
      },
      "source": [
        "# Experiments"
      ]
    },
    {
      "cell_type": "markdown",
      "metadata": {
        "id": "eTWQcUJ_GrIx",
        "colab_type": "text"
      },
      "source": [
        "Once you have chosen your embeddings, you can choose to freeze them or continue to train them using the supervised data (this could lead to overfitting). In this example, we will do three experiments: \n",
        "* frozen GloVe embeddings\n",
        "* fine-tuned (unfrozen) GloVe embeddings\n",
        "* randomly initialized embeddings"
      ]
    },
    {
      "cell_type": "code",
      "metadata": {
        "id": "geKOPVzVK6S9",
        "colab_type": "code",
        "colab": {}
      },
      "source": [
        "from tensorflow.keras.callbacks import Callback\n",
        "from tensorflow.keras.callbacks import EarlyStopping\n",
        "from tensorflow.keras.callbacks import ReduceLROnPlateau\n",
        "from tensorflow.keras.callbacks import TensorBoard\n",
        "%load_ext tensorboard"
      ],
      "execution_count": 0,
      "outputs": []
    },
    {
      "cell_type": "markdown",
      "metadata": {
        "id": "To_CB7ibLesP",
        "colab_type": "text"
      },
      "source": [
        "## GloVe embeddings (frozen)"
      ]
    },
    {
      "cell_type": "code",
      "metadata": {
        "id": "oT9w__AMkqfG",
        "colab_type": "code",
        "colab": {}
      },
      "source": [
        "# Arguments\n",
        "FREEZE_EMBEDDINGS = True"
      ],
      "execution_count": 0,
      "outputs": []
    },
    {
      "cell_type": "code",
      "metadata": {
        "id": "yg13AyoUkqcJ",
        "colab_type": "code",
        "outputId": "f3ebadd7-3f46-45c6-de66-d67111924f7e",
        "colab": {
          "base_uri": "https://localhost:8080/",
          "height": 561
        }
      },
      "source": [
        "# Initialize model\n",
        "glove_frozen_model = TextClassificationCNNModel(vocab_size=vocab_size,\n",
        "                                                embedding_dim=EMBEDDING_DIM,\n",
        "                                                filter_sizes=FILTER_SIZES,\n",
        "                                                num_filters=NUM_FILTERS,\n",
        "                                                hidden_dim=HIDDEN_DIM,\n",
        "                                                dropout_p=DROPOUT_P,\n",
        "                                                num_classes=len(classes),\n",
        "                                                freeze_embeddings=FREEZE_EMBEDDINGS)\n",
        "glove_frozen_model.sample(input_shape=(10,))"
      ],
      "execution_count": 59,
      "outputs": [
        {
          "output_type": "stream",
          "text": [
            "Model: \"model\"\n",
            "__________________________________________________________________________________________________\n",
            "Layer (type)                    Output Shape         Param #     Connected to                     \n",
            "==================================================================================================\n",
            "input_1 (InputLayer)            [(None, 10)]         0                                            \n",
            "__________________________________________________________________________________________________\n",
            "embedding (Embedding)           (None, 10, 100)      2991700     input_1[0][0]                    \n",
            "__________________________________________________________________________________________________\n",
            "conv1d (Conv1D)                 (None, 10, 50)       10050       embedding[0][0]                  \n",
            "__________________________________________________________________________________________________\n",
            "conv1d_1 (Conv1D)               (None, 10, 50)       15050       embedding[0][0]                  \n",
            "__________________________________________________________________________________________________\n",
            "conv1d_2 (Conv1D)               (None, 10, 50)       20050       embedding[0][0]                  \n",
            "__________________________________________________________________________________________________\n",
            "global_max_pooling1d (GlobalMax (None, 50)           0           conv1d[0][0]                     \n",
            "__________________________________________________________________________________________________\n",
            "global_max_pooling1d_1 (GlobalM (None, 50)           0           conv1d_1[0][0]                   \n",
            "__________________________________________________________________________________________________\n",
            "global_max_pooling1d_2 (GlobalM (None, 50)           0           conv1d_2[0][0]                   \n",
            "__________________________________________________________________________________________________\n",
            "concatenate (Concatenate)       (None, 150)          0           global_max_pooling1d[0][0]       \n",
            "                                                                 global_max_pooling1d_1[0][0]     \n",
            "                                                                 global_max_pooling1d_2[0][0]     \n",
            "__________________________________________________________________________________________________\n",
            "dense (Dense)                   (None, 100)          15100       concatenate[0][0]                \n",
            "__________________________________________________________________________________________________\n",
            "dense_1 (Dense)                 (None, 4)            404         dense[0][0]                      \n",
            "==================================================================================================\n",
            "Total params: 3,052,354\n",
            "Trainable params: 60,654\n",
            "Non-trainable params: 2,991,700\n",
            "__________________________________________________________________________________________________\n"
          ],
          "name": "stdout"
        }
      ]
    },
    {
      "cell_type": "code",
      "metadata": {
        "colab_type": "code",
        "id": "Q5sGbMQ8wOLz",
        "colab": {}
      },
      "source": [
        "# Set embeddings\n",
        "glove_frozen_model.layers[0].set_weights([embedding_matrix])"
      ],
      "execution_count": 0,
      "outputs": []
    },
    {
      "cell_type": "code",
      "metadata": {
        "id": "OTJDJMjRkt7M",
        "colab_type": "code",
        "colab": {}
      },
      "source": [
        "# Compile\n",
        "glove_frozen_model.compile(optimizer=Adam(lr=LEARNING_RATE),\n",
        "                           loss=SparseCategoricalCrossentropy(),\n",
        "                           metrics=['accuracy'])"
      ],
      "execution_count": 0,
      "outputs": []
    },
    {
      "cell_type": "code",
      "metadata": {
        "id": "n-OQ-PRfJFdR",
        "colab_type": "code",
        "colab": {}
      },
      "source": [
        "# Callbacks\n",
        "callbacks = [EarlyStopping(monitor='val_loss', patience=EARLY_STOPPING_CRITERIA, verbose=1, mode='min'),\n",
        "             ReduceLROnPlateau(patience=1, factor=0.1, verbose=0),\n",
        "             TensorBoard(log_dir='tensorboard/glove_frozen', histogram_freq=1, update_freq='epoch')]"
      ],
      "execution_count": 0,
      "outputs": []
    },
    {
      "cell_type": "code",
      "metadata": {
        "id": "gi9DSAYGkuBW",
        "colab_type": "code",
        "outputId": "ea113110-1dc3-4f97-bfcb-3202f78284d6",
        "colab": {
          "base_uri": "https://localhost:8080/",
          "height": 272
        }
      },
      "source": [
        "# Training\n",
        "training_history = glove_frozen_model.fit_generator(generator=training_generator,\n",
        "                                                    epochs=NUM_EPOCHS,\n",
        "                                                    validation_data=validation_generator,\n",
        "                                                    callbacks=callbacks,\n",
        "                                                    shuffle=False,\n",
        "                                                    class_weight=class_weights,\n",
        "                                                    verbose=1)"
      ],
      "execution_count": 63,
      "outputs": [
        {
          "output_type": "stream",
          "text": [
            "Epoch 1/10\n",
            "1355/1355 [==============================] - 61s 45ms/step - loss: 2.3203e-05 - accuracy: 0.7550 - val_loss: 0.4013 - val_accuracy: 0.8539\n",
            "Epoch 2/10\n",
            "1355/1355 [==============================] - 56s 42ms/step - loss: 1.7316e-05 - accuracy: 0.8671 - val_loss: 0.3742 - val_accuracy: 0.8662\n",
            "Epoch 3/10\n",
            "1355/1355 [==============================] - 56s 41ms/step - loss: 1.5339e-05 - accuracy: 0.8831 - val_loss: 0.3771 - val_accuracy: 0.8659\n",
            "Epoch 4/10\n",
            "1355/1355 [==============================] - 56s 42ms/step - loss: 1.2683e-05 - accuracy: 0.9015 - val_loss: 0.3650 - val_accuracy: 0.8717\n",
            "Epoch 5/10\n",
            "1355/1355 [==============================] - 56s 41ms/step - loss: 1.2124e-05 - accuracy: 0.9071 - val_loss: 0.3682 - val_accuracy: 0.8721\n",
            "Epoch 6/10\n",
            "1355/1355 [==============================] - 57s 42ms/step - loss: 1.1633e-05 - accuracy: 0.9109 - val_loss: 0.3678 - val_accuracy: 0.8720\n",
            "Epoch 7/10\n",
            "1355/1355 [==============================] - 58s 43ms/step - loss: 1.1598e-05 - accuracy: 0.9110 - val_loss: 0.3678 - val_accuracy: 0.8716\n",
            "Epoch 00007: early stopping\n"
          ],
          "name": "stdout"
        }
      ]
    },
    {
      "cell_type": "code",
      "metadata": {
        "id": "Ese-u_8hshfK",
        "colab_type": "code",
        "outputId": "4342201a-9f40-4ef3-d39e-7bb29186586c",
        "colab": {
          "base_uri": "https://localhost:8080/",
          "height": 34
        }
      },
      "source": [
        "# Evaluation\n",
        "testing_history = glove_frozen_model.evaluate_generator(generator=testing_generator,\n",
        "                                                        verbose=1)"
      ],
      "execution_count": 64,
      "outputs": [
        {
          "output_type": "stream",
          "text": [
            "282/282 [==============================] - 6s 22ms/step - loss: 0.3690 - accuracy: 0.8684\n"
          ],
          "name": "stdout"
        }
      ]
    },
    {
      "cell_type": "markdown",
      "metadata": {
        "id": "dUVkeDbNqO7V",
        "colab_type": "text"
      },
      "source": [
        "## Fine-tuned GloVe embeddings (unfrozen)"
      ]
    },
    {
      "cell_type": "code",
      "metadata": {
        "id": "eubLrHydkt_J",
        "colab_type": "code",
        "colab": {}
      },
      "source": [
        "# Arguments\n",
        "FREEZE_EMBEDDINGS = False"
      ],
      "execution_count": 0,
      "outputs": []
    },
    {
      "cell_type": "code",
      "metadata": {
        "id": "IGeZwoy9qUpa",
        "colab_type": "code",
        "outputId": "9c6d7f13-4545-4c74-e7b1-d7cfec2be725",
        "colab": {
          "base_uri": "https://localhost:8080/",
          "height": 561
        }
      },
      "source": [
        "# Initialize model\n",
        "glove_finetuned_model = TextClassificationCNNModel(vocab_size=vocab_size,\n",
        "                                                   embedding_dim=EMBEDDING_DIM,\n",
        "                                                   filter_sizes=FILTER_SIZES,\n",
        "                                                   num_filters=NUM_FILTERS,\n",
        "                                                   hidden_dim=HIDDEN_DIM,\n",
        "                                                   dropout_p=DROPOUT_P,\n",
        "                                                   num_classes=len(classes),\n",
        "                                                   freeze_embeddings=FREEZE_EMBEDDINGS)\n",
        "glove_finetuned_model.sample(input_shape=(10,))"
      ],
      "execution_count": 66,
      "outputs": [
        {
          "output_type": "stream",
          "text": [
            "Model: \"model_1\"\n",
            "__________________________________________________________________________________________________\n",
            "Layer (type)                    Output Shape         Param #     Connected to                     \n",
            "==================================================================================================\n",
            "input_2 (InputLayer)            [(None, 10)]         0                                            \n",
            "__________________________________________________________________________________________________\n",
            "embedding_1 (Embedding)         (None, 10, 100)      2991700     input_2[0][0]                    \n",
            "__________________________________________________________________________________________________\n",
            "conv1d_3 (Conv1D)               (None, 10, 50)       10050       embedding_1[0][0]                \n",
            "__________________________________________________________________________________________________\n",
            "conv1d_4 (Conv1D)               (None, 10, 50)       15050       embedding_1[0][0]                \n",
            "__________________________________________________________________________________________________\n",
            "conv1d_5 (Conv1D)               (None, 10, 50)       20050       embedding_1[0][0]                \n",
            "__________________________________________________________________________________________________\n",
            "global_max_pooling1d_3 (GlobalM (None, 50)           0           conv1d_3[0][0]                   \n",
            "__________________________________________________________________________________________________\n",
            "global_max_pooling1d_4 (GlobalM (None, 50)           0           conv1d_4[0][0]                   \n",
            "__________________________________________________________________________________________________\n",
            "global_max_pooling1d_5 (GlobalM (None, 50)           0           conv1d_5[0][0]                   \n",
            "__________________________________________________________________________________________________\n",
            "concatenate_1 (Concatenate)     (None, 150)          0           global_max_pooling1d_3[0][0]     \n",
            "                                                                 global_max_pooling1d_4[0][0]     \n",
            "                                                                 global_max_pooling1d_5[0][0]     \n",
            "__________________________________________________________________________________________________\n",
            "dense_2 (Dense)                 (None, 100)          15100       concatenate_1[0][0]              \n",
            "__________________________________________________________________________________________________\n",
            "dense_3 (Dense)                 (None, 4)            404         dense_2[0][0]                    \n",
            "==================================================================================================\n",
            "Total params: 3,052,354\n",
            "Trainable params: 3,052,354\n",
            "Non-trainable params: 0\n",
            "__________________________________________________________________________________________________\n"
          ],
          "name": "stdout"
        }
      ]
    },
    {
      "cell_type": "code",
      "metadata": {
        "id": "oUaEr92PqUml",
        "colab_type": "code",
        "colab": {}
      },
      "source": [
        "# Set embeddings\n",
        "glove_finetuned_model.layers[0].set_weights([embedding_matrix])"
      ],
      "execution_count": 0,
      "outputs": []
    },
    {
      "cell_type": "code",
      "metadata": {
        "id": "NpyhLUK2qUjb",
        "colab_type": "code",
        "colab": {}
      },
      "source": [
        "# Compile\n",
        "glove_finetuned_model.compile(optimizer=Adam(lr=LEARNING_RATE),\n",
        "                              loss=SparseCategoricalCrossentropy(),\n",
        "                              metrics=['accuracy'])"
      ],
      "execution_count": 0,
      "outputs": []
    },
    {
      "cell_type": "code",
      "metadata": {
        "id": "HmiZwAdvI66W",
        "colab_type": "code",
        "colab": {}
      },
      "source": [
        "# Callbacks\n",
        "callbacks = [EarlyStopping(monitor='val_loss', patience=EARLY_STOPPING_CRITERIA, verbose=1, mode='min'),\n",
        "             ReduceLROnPlateau(patience=1, factor=0.1, verbose=0),\n",
        "             TensorBoard(log_dir='tensorboard/glove_finetuned', histogram_freq=1, update_freq='epoch')]"
      ],
      "execution_count": 0,
      "outputs": []
    },
    {
      "cell_type": "code",
      "metadata": {
        "id": "D9cAs9veqYSl",
        "colab_type": "code",
        "outputId": "67d6e87a-bd92-4b7f-c2f5-520fb505b02e",
        "colab": {
          "base_uri": "https://localhost:8080/",
          "height": 238
        }
      },
      "source": [
        "# Training\n",
        "training_history = glove_finetuned_model.fit_generator(generator=training_generator,\n",
        "                                                       epochs=NUM_EPOCHS,\n",
        "                                                       validation_data=validation_generator,\n",
        "                                                       callbacks=callbacks,\n",
        "                                                       shuffle=False,\n",
        "                                                       class_weight=class_weights,\n",
        "                                                       verbose=1)"
      ],
      "execution_count": 70,
      "outputs": [
        {
          "output_type": "stream",
          "text": [
            "Epoch 1/10\n",
            "1355/1355 [==============================] - 129s 95ms/step - loss: 2.2635e-05 - accuracy: 0.7600 - val_loss: 0.3951 - val_accuracy: 0.8571\n",
            "Epoch 2/10\n",
            "1355/1355 [==============================] - 128s 94ms/step - loss: 1.6803e-05 - accuracy: 0.8707 - val_loss: 0.3703 - val_accuracy: 0.8671\n",
            "Epoch 3/10\n",
            "1355/1355 [==============================] - 128s 95ms/step - loss: 1.4548e-05 - accuracy: 0.8899 - val_loss: 0.3637 - val_accuracy: 0.8717\n",
            "Epoch 4/10\n",
            "1355/1355 [==============================] - 138s 102ms/step - loss: 1.2642e-05 - accuracy: 0.9054 - val_loss: 0.3704 - val_accuracy: 0.8716\n",
            "Epoch 5/10\n",
            "1355/1355 [==============================] - 137s 101ms/step - loss: 9.7322e-06 - accuracy: 0.9264 - val_loss: 0.3730 - val_accuracy: 0.8737\n",
            "Epoch 6/10\n",
            "1355/1355 [==============================] - 139s 103ms/step - loss: 9.0700e-06 - accuracy: 0.9330 - val_loss: 0.3746 - val_accuracy: 0.8739\n",
            "Epoch 00006: early stopping\n"
          ],
          "name": "stdout"
        }
      ]
    },
    {
      "cell_type": "code",
      "metadata": {
        "id": "17a1r7gbsehX",
        "colab_type": "code",
        "outputId": "f61f23ad-b182-49ef-8e78-40e1f183f90c",
        "colab": {
          "base_uri": "https://localhost:8080/",
          "height": 34
        }
      },
      "source": [
        "# Evaluation\n",
        "testing_history = glove_finetuned_model.evaluate_generator(generator=testing_generator,\n",
        "                                                           verbose=1)"
      ],
      "execution_count": 71,
      "outputs": [
        {
          "output_type": "stream",
          "text": [
            "282/282 [==============================] - 6s 21ms/step - loss: 0.3710 - accuracy: 0.8728\n"
          ],
          "name": "stdout"
        }
      ]
    },
    {
      "cell_type": "markdown",
      "metadata": {
        "id": "Y8JzMrcv_p8a",
        "colab_type": "text"
      },
      "source": [
        "## Randomly initialized embeddings"
      ]
    },
    {
      "cell_type": "code",
      "metadata": {
        "id": "TnLSYV0WKo8x",
        "colab_type": "code",
        "colab": {}
      },
      "source": [
        "# Arguments\n",
        "FREEZE_EMBEDDINGS = False"
      ],
      "execution_count": 0,
      "outputs": []
    },
    {
      "cell_type": "code",
      "metadata": {
        "id": "wD4sRUS5_lwq",
        "colab_type": "code",
        "colab": {}
      },
      "source": [
        "random_initialized_model = TextClassificationCNNModel(vocab_size=vocab_size,\n",
        "                                                      embedding_dim=EMBEDDING_DIM,\n",
        "                                                      filter_sizes=FILTER_SIZES,\n",
        "                                                      num_filters=NUM_FILTERS,\n",
        "                                                      hidden_dim=HIDDEN_DIM,\n",
        "                                                      dropout_p=DROPOUT_P,\n",
        "                                                      num_classes=len(classes),\n",
        "                                                      freeze_embeddings=FREEZE_EMBEDDINGS)"
      ],
      "execution_count": 0,
      "outputs": []
    },
    {
      "cell_type": "code",
      "metadata": {
        "id": "Ucn3tYq1_sE1",
        "colab_type": "code",
        "colab": {}
      },
      "source": [
        "# Compile\n",
        "random_initialized_model.compile(optimizer=Adam(lr=LEARNING_RATE),\n",
        "                                 loss=SparseCategoricalCrossentropy(),\n",
        "                                 metrics=['accuracy'])"
      ],
      "execution_count": 0,
      "outputs": []
    },
    {
      "cell_type": "code",
      "metadata": {
        "id": "F7bTmNdCJA0g",
        "colab_type": "code",
        "colab": {}
      },
      "source": [
        "# Callbacks\n",
        "callbacks = [EarlyStopping(monitor='val_loss', patience=EARLY_STOPPING_CRITERIA, verbose=1, mode='min'),\n",
        "             ReduceLROnPlateau(patience=1, factor=0.1, verbose=0),\n",
        "             TensorBoard(log_dir='tensorboard/randomly_initialized', histogram_freq=1, update_freq='epoch')]"
      ],
      "execution_count": 0,
      "outputs": []
    },
    {
      "cell_type": "code",
      "metadata": {
        "id": "qlqe2TVlCxvj",
        "colab_type": "code",
        "outputId": "8f213d09-2e1f-4308-e76c-fef21c04a8de",
        "colab": {
          "base_uri": "https://localhost:8080/",
          "height": 238
        }
      },
      "source": [
        "# Training\n",
        "training_history = random_initialized_model.fit_generator(generator=training_generator,\n",
        "                                                          epochs=NUM_EPOCHS,\n",
        "                                                          validation_data=validation_generator,\n",
        "                                                          callbacks=callbacks,\n",
        "                                                          shuffle=False,\n",
        "                                                          class_weight=class_weights,\n",
        "                                                          verbose=1)"
      ],
      "execution_count": 76,
      "outputs": [
        {
          "output_type": "stream",
          "text": [
            "Epoch 1/10\n",
            "1355/1355 [==============================] - 140s 103ms/step - loss: 4.2080e-05 - accuracy: 0.4307 - val_loss: 0.4631 - val_accuracy: 0.8380\n",
            "Epoch 2/10\n",
            "1355/1355 [==============================] - 140s 104ms/step - loss: 1.6937e-05 - accuracy: 0.8697 - val_loss: 0.3931 - val_accuracy: 0.8629\n",
            "Epoch 3/10\n",
            "1355/1355 [==============================] - 145s 107ms/step - loss: 1.1248e-05 - accuracy: 0.9216 - val_loss: 0.3895 - val_accuracy: 0.8671\n",
            "Epoch 4/10\n",
            "1355/1355 [==============================] - 125s 92ms/step - loss: 7.6980e-06 - accuracy: 0.9482 - val_loss: 0.4191 - val_accuracy: 0.8652\n",
            "Epoch 5/10\n",
            "1355/1355 [==============================] - 124s 92ms/step - loss: 4.1468e-06 - accuracy: 0.9729 - val_loss: 0.4374 - val_accuracy: 0.8699\n",
            "Epoch 6/10\n",
            "1355/1355 [==============================] - 124s 92ms/step - loss: 3.3484e-06 - accuracy: 0.9795 - val_loss: 0.4394 - val_accuracy: 0.8701\n",
            "Epoch 00006: early stopping\n"
          ],
          "name": "stdout"
        }
      ]
    },
    {
      "cell_type": "code",
      "metadata": {
        "id": "fylHduxTK-0N",
        "colab_type": "code",
        "outputId": "2149dbbb-1c6f-4936-d083-f5ec297d7ee6",
        "colab": {
          "base_uri": "https://localhost:8080/",
          "height": 34
        }
      },
      "source": [
        "# Evaluation\n",
        "testing_history = random_initialized_model.evaluate_generator(generator=testing_generator,\n",
        "                                                              verbose=1)"
      ],
      "execution_count": 77,
      "outputs": [
        {
          "output_type": "stream",
          "text": [
            "282/282 [==============================] - 5s 18ms/step - loss: 0.4531 - accuracy: 0.8613\n"
          ],
          "name": "stdout"
        }
      ]
    },
    {
      "cell_type": "code",
      "metadata": {
        "colab_type": "code",
        "id": "12BIGxY6k17Q",
        "outputId": "dfda0143-f1e8-43b5-bdd3-ac65ddc0d80e",
        "colab": {
          "base_uri": "https://localhost:8080/",
          "height": 17
        }
      },
      "source": [
        "%tensorboard --logdir tensorboard"
      ],
      "execution_count": 78,
      "outputs": [
        {
          "output_type": "display_data",
          "data": {
            "text/html": [
              "\n",
              "    <div id=\"root\"></div>\n",
              "    <script>\n",
              "      (function() {\n",
              "        window.TENSORBOARD_ENV = window.TENSORBOARD_ENV || {};\n",
              "        window.TENSORBOARD_ENV[\"IN_COLAB\"] = true;\n",
              "        document.querySelector(\"base\").href = \"https://localhost:6006\";\n",
              "        function fixUpTensorboard(root) {\n",
              "          const tftb = root.querySelector(\"tf-tensorboard\");\n",
              "          // Disable the fragment manipulation behavior in Colab. Not\n",
              "          // only is the behavior not useful (as the iframe's location\n",
              "          // is not visible to the user), it causes TensorBoard's usage\n",
              "          // of `window.replace` to navigate away from the page and to\n",
              "          // the `localhost:<port>` URL specified by the base URI, which\n",
              "          // in turn causes the frame to (likely) crash.\n",
              "          tftb.removeAttribute(\"use-hash\");\n",
              "        }\n",
              "        function executeAllScripts(root) {\n",
              "          // When `script` elements are inserted into the DOM by\n",
              "          // assigning to an element's `innerHTML`, the scripts are not\n",
              "          // executed. Thus, we manually re-insert these scripts so that\n",
              "          // TensorBoard can initialize itself.\n",
              "          for (const script of root.querySelectorAll(\"script\")) {\n",
              "            const newScript = document.createElement(\"script\");\n",
              "            newScript.type = script.type;\n",
              "            newScript.textContent = script.textContent;\n",
              "            root.appendChild(newScript);\n",
              "            script.remove();\n",
              "          }\n",
              "        }\n",
              "        function setHeight(root, height) {\n",
              "          // We set the height dynamically after the TensorBoard UI has\n",
              "          // been initialized. This avoids an intermediate state in\n",
              "          // which the container plus the UI become taller than the\n",
              "          // final width and cause the Colab output frame to be\n",
              "          // permanently resized, eventually leading to an empty\n",
              "          // vertical gap below the TensorBoard UI. It's not clear\n",
              "          // exactly what causes this problematic intermediate state,\n",
              "          // but setting the height late seems to fix it.\n",
              "          root.style.height = `${height}px`;\n",
              "        }\n",
              "        const root = document.getElementById(\"root\");\n",
              "        fetch(\".\")\n",
              "          .then((x) => x.text())\n",
              "          .then((html) => void (root.innerHTML = html))\n",
              "          .then(() => fixUpTensorboard(root))\n",
              "          .then(() => executeAllScripts(root))\n",
              "          .then(() => setHeight(root, 800));\n",
              "      })();\n",
              "    </script>\n",
              "  "
            ],
            "text/plain": [
              "<IPython.core.display.HTML object>"
            ]
          },
          "metadata": {
            "tags": []
          }
        }
      ]
    },
    {
      "cell_type": "markdown",
      "metadata": {
        "id": "vskwiiI3V3S6",
        "colab_type": "text"
      },
      "source": [
        "# Complete evaluation"
      ]
    },
    {
      "cell_type": "markdown",
      "metadata": {
        "id": "6tO2hX8OLQ5s",
        "colab_type": "text"
      },
      "source": [
        "Looks like fine-tuned glove embeddings had the best test performance so let's do proper evaluation and inference with that strategy."
      ]
    },
    {
      "cell_type": "code",
      "metadata": {
        "id": "avmwpr5syKHY",
        "colab_type": "code",
        "colab": {}
      },
      "source": [
        "model = glove_finetuned_model"
      ],
      "execution_count": 0,
      "outputs": []
    },
    {
      "cell_type": "code",
      "metadata": {
        "id": "Itq7lT9qV9Y8",
        "colab_type": "code",
        "colab": {}
      },
      "source": [
        "import io\n",
        "import itertools\n",
        "import json\n",
        "import matplotlib.pyplot as plt\n",
        "from sklearn.metrics import classification_report\n",
        "from sklearn.metrics import confusion_matrix\n",
        "from sklearn.metrics import precision_recall_fscore_support"
      ],
      "execution_count": 0,
      "outputs": []
    },
    {
      "cell_type": "markdown",
      "metadata": {
        "id": "WBoa4CtjW3OW",
        "colab_type": "text"
      },
      "source": [
        "### Components"
      ]
    },
    {
      "cell_type": "code",
      "metadata": {
        "id": "NNeyYs3tW3VN",
        "colab_type": "code",
        "colab": {}
      },
      "source": [
        "def plot_confusion_matrix(y_true, y_pred, classes, cmap=plt.cm.Blues):\n",
        "    \"\"\"Plot a confusion matrix using ground truth and predictions.\"\"\"\n",
        "    # Confusion matrix\n",
        "    cm = confusion_matrix(y_true, y_pred)\n",
        "    cm_norm = cm.astype('float') / cm.sum(axis=1)[:, np.newaxis]\n",
        "\n",
        "    #  Figure\n",
        "    fig = plt.figure()\n",
        "    ax = fig.add_subplot(111)\n",
        "    cax = ax.matshow(cm, cmap=plt.cm.Blues)\n",
        "    fig.colorbar(cax)\n",
        "\n",
        "    # Axis\n",
        "    plt.title(\"Confusion matrix\")\n",
        "    plt.ylabel(\"True label\")\n",
        "    plt.xlabel(\"Predicted label\")\n",
        "    ax.set_xticklabels([''] + classes)\n",
        "    ax.set_yticklabels([''] + classes)\n",
        "    ax.xaxis.set_label_position('bottom') \n",
        "    ax.xaxis.tick_bottom()\n",
        "\n",
        "    # Values\n",
        "    thresh = cm.max() / 2.\n",
        "    for i, j in itertools.product(range(cm.shape[0]), range(cm.shape[1])):\n",
        "        plt.text(j, i, f\"{cm[i, j]:d} ({cm_norm[i, j]*100:.1f}%)\",\n",
        "                 horizontalalignment=\"center\",\n",
        "                 color=\"white\" if cm[i, j] > thresh else \"black\")\n",
        "\n",
        "    # Display\n",
        "    plt.show()"
      ],
      "execution_count": 0,
      "outputs": []
    },
    {
      "cell_type": "code",
      "metadata": {
        "id": "smP8T1bEW3fH",
        "colab_type": "code",
        "colab": {}
      },
      "source": [
        "def get_performance(y_true, y_pred, classes):\n",
        "    \"\"\"Per-class performance metrics. \"\"\"\n",
        "    performance = {'overall': {}, 'class': {}}\n",
        "    y_pred = np.argmax(y_pred, axis=1)\n",
        "    metrics = precision_recall_fscore_support(y_true, y_pred)\n",
        "\n",
        "    # Overall performance\n",
        "    performance['overall']['precision'] = np.mean(metrics[0])\n",
        "    performance['overall']['recall'] = np.mean(metrics[1])\n",
        "    performance['overall']['f1'] = np.mean(metrics[2])\n",
        "    performance['overall']['num_samples'] = np.float64(np.sum(metrics[3]))\n",
        "\n",
        "    # Per-class performance\n",
        "    for i in range(len(classes)):\n",
        "        performance['class'][classes[i]] = {\n",
        "            \"precision\": metrics[0][i],\n",
        "            \"recall\": metrics[1][i],\n",
        "            \"f1\": metrics[2][i],\n",
        "            \"num_samples\": np.float64(metrics[3][i])\n",
        "        }\n",
        "\n",
        "    return performance"
      ],
      "execution_count": 0,
      "outputs": []
    },
    {
      "cell_type": "markdown",
      "metadata": {
        "id": "yCAHPsyWWAar",
        "colab_type": "text"
      },
      "source": [
        "### Operations"
      ]
    },
    {
      "cell_type": "code",
      "metadata": {
        "id": "qdAj6KyCU88E",
        "colab_type": "code",
        "outputId": "619af0fb-b2b7-440a-c1f4-396e30d139d3",
        "colab": {
          "base_uri": "https://localhost:8080/",
          "height": 68
        }
      },
      "source": [
        "# Evaluation\n",
        "test_history = model.evaluate_generator(generator=testing_generator, verbose=1)\n",
        "y_pred = model.predict_generator(generator=testing_generator, verbose=1)\n",
        "print (f\"test history: {test_history}\")"
      ],
      "execution_count": 83,
      "outputs": [
        {
          "output_type": "stream",
          "text": [
            "282/282 [==============================] - 5s 19ms/step - loss: 0.3710 - accuracy: 0.8728\n",
            "282/282 [==============================] - 3s 9ms/step\n",
            "test history: [0.37095893919467926, 0.8728333]\n"
          ],
          "name": "stdout"
        }
      ]
    },
    {
      "cell_type": "code",
      "metadata": {
        "id": "uLQNo8NXWBqI",
        "colab_type": "code",
        "outputId": "9566ad57-305d-4a2d-da76-a107d8117bda",
        "colab": {
          "base_uri": "https://localhost:8080/",
          "height": 595
        }
      },
      "source": [
        "# Class performance\n",
        "performance = get_performance(y_true=y_test,\n",
        "                              y_pred=y_pred,\n",
        "                              classes=classes)\n",
        "print (json.dumps(performance, indent=4))"
      ],
      "execution_count": 84,
      "outputs": [
        {
          "output_type": "stream",
          "text": [
            "{\n",
            "    \"overall\": {\n",
            "        \"precision\": 0.8728250133452566,\n",
            "        \"recall\": 0.8728333333333333,\n",
            "        \"f1\": 0.8726781141026867,\n",
            "        \"num_samples\": 18000.0\n",
            "    },\n",
            "    \"class\": {\n",
            "        \"Business\": {\n",
            "            \"precision\": 0.8363068688670829,\n",
            "            \"recall\": 0.8333333333333334,\n",
            "            \"f1\": 0.8348174532502226,\n",
            "            \"num_samples\": 4500.0\n",
            "        },\n",
            "        \"Sci/Tech\": {\n",
            "            \"precision\": 0.8455718736092568,\n",
            "            \"recall\": 0.8444444444444444,\n",
            "            \"f1\": 0.8450077829664221,\n",
            "            \"num_samples\": 4500.0\n",
            "        },\n",
            "        \"Sports\": {\n",
            "            \"precision\": 0.9007486631016043,\n",
            "            \"recall\": 0.9357777777777778,\n",
            "            \"f1\": 0.9179291553133515,\n",
            "            \"num_samples\": 4500.0\n",
            "        },\n",
            "        \"World\": {\n",
            "            \"precision\": 0.9086726478030825,\n",
            "            \"recall\": 0.8777777777777778,\n",
            "            \"f1\": 0.8929580648807506,\n",
            "            \"num_samples\": 4500.0\n",
            "        }\n",
            "    }\n",
            "}\n"
          ],
          "name": "stdout"
        }
      ]
    },
    {
      "cell_type": "code",
      "metadata": {
        "id": "nRbPfqgZWaof",
        "colab_type": "code",
        "outputId": "a187a32e-22d6-44d0-e126-59e3514b0dd8",
        "colab": {
          "base_uri": "https://localhost:8080/",
          "height": 598
        }
      },
      "source": [
        "# Confusion matrix\n",
        "plt.rcParams[\"figure.figsize\"] = (7,7)\n",
        "y_pred = np.argmax(y_pred, axis=1)\n",
        "plot_confusion_matrix(y_test, y_pred, classes=classes)\n",
        "print (classification_report(y_test, y_pred))"
      ],
      "execution_count": 85,
      "outputs": [
        {
          "output_type": "display_data",
          "data": {
            "image/png": "[encoded data removed]",
            "text/plain": [
              "<Figure size 504x504 with 2 Axes>"
            ]
          },
          "metadata": {
            "tags": []
          }
        },
        {
          "output_type": "stream",
          "text": [
            "              precision    recall  f1-score   support\n",
            "\n",
            "           0       0.84      0.83      0.83      4500\n",
            "           1       0.85      0.84      0.85      4500\n",
            "           2       0.90      0.94      0.92      4500\n",
            "           3       0.91      0.88      0.89      4500\n",
            "\n",
            "    accuracy                           0.87     18000\n",
            "   macro avg       0.87      0.87      0.87     18000\n",
            "weighted avg       0.87      0.87      0.87     18000\n",
            "\n"
          ],
          "name": "stdout"
        }
      ]
    },
    {
      "cell_type": "markdown",
      "metadata": {
        "id": "yeiD1T_QZpdk",
        "colab_type": "text"
      },
      "source": [
        "# Inference"
      ]
    },
    {
      "cell_type": "code",
      "metadata": {
        "id": "z7G7vuSTZHkQ",
        "colab_type": "code",
        "colab": {}
      },
      "source": [
        "import collections"
      ],
      "execution_count": 0,
      "outputs": []
    },
    {
      "cell_type": "markdown",
      "metadata": {
        "id": "Xeu952p4Zweb",
        "colab_type": "text"
      },
      "source": [
        "### Components"
      ]
    },
    {
      "cell_type": "code",
      "metadata": {
        "id": "362Bl2chXDOA",
        "colab_type": "code",
        "colab": {}
      },
      "source": [
        "def get_probability_distributions(probabilities, classes):\n",
        "    \"\"\"Produce probability distributions with labels.\"\"\"\n",
        "    probability_distributions = []\n",
        "    for i, y_prob in enumerate(probabilities):\n",
        "        probability_distribution = {}\n",
        "        for j, prob in enumerate(y_prob):\n",
        "            probability_distribution[classes[j]] = np.float64(prob)\n",
        "        probability_distribution = collections.OrderedDict(\n",
        "            sorted(probability_distribution.items(), key=lambda kv: kv[1], reverse=True))\n",
        "        probability_distributions.append(probability_distribution)\n",
        "    return probability_distributions"
      ],
      "execution_count": 0,
      "outputs": []
    },
    {
      "cell_type": "markdown",
      "metadata": {
        "id": "6EZdo-fKZwo6",
        "colab_type": "text"
      },
      "source": [
        "### Operations"
      ]
    },
    {
      "cell_type": "code",
      "metadata": {
        "id": "CLP2Vzp3Zwth",
        "colab_type": "code",
        "outputId": "925e4006-b7dd-48fa-fb4e-797ef2742627",
        "colab": {
          "base_uri": "https://localhost:8080/",
          "height": 85
        }
      },
      "source": [
        "# Inputs\n",
        "texts = [\"This weekend the greatest tennis players will fight for the championship.\"]\n",
        "num_samples = len(texts)\n",
        "X_infer = np.array(X_tokenizer.texts_to_sequences(texts))\n",
        "print (f\"{texts[0]} \\n\\t→ {untokenize(X_infer[0], X_tokenizer)} \\n\\t→ {X_infer[0]}\")\n",
        "print (f\"len(X_infer[0]): {len(X_infer[0])} words\")\n",
        "y_filler = np.array([0]*num_samples)"
      ],
      "execution_count": 88,
      "outputs": [
        {
          "output_type": "stream",
          "text": [
            "This weekend the greatest tennis players will fight for the championship. \n",
            "\t→ this weekend the greatest tennis players will fight for the championship \n",
            "\t→ [ 272 2283   10 6450  878  370   60  238    5   10 1465]\n",
            "len(X_infer[0]): 11 characters\n"
          ],
          "name": "stdout"
        }
      ]
    },
    {
      "cell_type": "code",
      "metadata": {
        "id": "q1gFlI5MZ143",
        "colab_type": "code",
        "colab": {}
      },
      "source": [
        "# Inference data generator\n",
        "inference_generator = DataGenerator(X=X_infer,\n",
        "                                    y=y_filler,\n",
        "                                    batch_size=BATCH_SIZE,\n",
        "                                    max_filter_size=max(FILTER_SIZES),\n",
        "                                    shuffle=False)"
      ],
      "execution_count": 0,
      "outputs": []
    },
    {
      "cell_type": "code",
      "metadata": {
        "id": "UFE4sp_7aHTq",
        "colab_type": "code",
        "outputId": "2b6f5610-f8bc-499d-e57c-f1c54e02e84c",
        "colab": {
          "base_uri": "https://localhost:8080/",
          "height": 34
        }
      },
      "source": [
        "# Predict\n",
        "probabilities = model.predict_generator(generator=inference_generator,\n",
        "                                        verbose=1)"
      ],
      "execution_count": 90,
      "outputs": [
        {
          "output_type": "stream",
          "text": [
            "\r1/1 [==============================] - 0s 56ms/step\n"
          ],
          "name": "stdout"
        }
      ]
    },
    {
      "cell_type": "code",
      "metadata": {
        "id": "bGi_NvbBaMap",
        "colab_type": "code",
        "outputId": "ebd752e8-97eb-44a6-dcf4-aada39df94b4",
        "colab": {
          "base_uri": "https://localhost:8080/",
          "height": 238
        }
      },
      "source": [
        "# Results\n",
        "probability_distributions = get_probability_distributions(probabilities=probabilities,\n",
        "                                                          classes=y_tokenizer.classes_)\n",
        "results = []\n",
        "for index in range(num_samples):\n",
        "    results.append({\n",
        "        'raw_input': texts[index],\n",
        "        'preprocessed_input': untokenize(indices=X_infer[index], tokenizer=X_tokenizer),\n",
        "        'tokenized_input': str(X_infer[index]),\n",
        "        'probabilities': probability_distributions[index]\n",
        "                   })\n",
        "print (json.dumps(results, indent=4))"
      ],
      "execution_count": 91,
      "outputs": [
        {
          "output_type": "stream",
          "text": [
            "[\n",
            "    {\n",
            "        \"raw_input\": \"This weekend the greatest tennis players will fight for the championship.\",\n",
            "        \"preprocessed_input\": \"this weekend the greatest tennis players will fight for the championship\",\n",
            "        \"tokenized_input\": \"[ 272 2283   10 6450  878  370   60  238    5   10 1465]\",\n",
            "        \"probabilities\": {\n",
            "            \"Sports\": 0.7571110129356384,\n",
            "            \"World\": 0.2408323436975479,\n",
            "            \"Sci/Tech\": 0.0012546397047117352,\n",
            "            \"Business\": 0.0008020797977223992\n",
            "        }\n",
            "    }\n",
            "]\n"
          ],
          "name": "stdout"
        }
      ]
    },
    {
      "cell_type": "markdown",
      "metadata": {
        "id": "Y4-WkjN595lO",
        "colab_type": "text"
      },
      "source": [
        "# Interpretability"
      ]
    },
    {
      "cell_type": "markdown",
      "metadata": {
        "id": "Uo0FqqEY98El",
        "colab_type": "text"
      },
      "source": [
        "Recall that each our unique filter sizes (2, 3 and 4) act as n-gram feature detectors. When these filters convolve on our embedded input (`N`, `max_seq_len`, `embedding_dim`), they produce feature maps which are shape ((`N`, `max_seq_len`, `num_filters`) for each filter size. Since we used `SAME` padding with stride=1, our feature maps have the same length as our inputs ('max_seq_len') which you can think of as what the filters extracted from each n-gram window. When we apply 1d global max-pooling we're effectively extracting the most relevant information from the feature maps. We can inspect the trained model at the pooling step to determine which n-grams were most relevant towards the prediction."
      ]
    },
    {
      "cell_type": "code",
      "metadata": {
        "id": "Zv2uqi6mOe9Z",
        "colab_type": "code",
        "colab": {}
      },
      "source": [
        "import seaborn as sns\n",
        "from statistics import mode"
      ],
      "execution_count": 0,
      "outputs": []
    },
    {
      "cell_type": "markdown",
      "metadata": {
        "id": "J6FZJVbUBz36",
        "colab_type": "text"
      },
      "source": [
        "### Components"
      ]
    },
    {
      "cell_type": "markdown",
      "metadata": {
        "id": "M-aGz2BgCCKq",
        "colab_type": "text"
      },
      "source": [
        "We're going to copy the same model structure as before but now we'll stop just after convolution since those are the outputs we care about."
      ]
    },
    {
      "cell_type": "code",
      "metadata": {
        "id": "_nzdZ2_tBsfc",
        "colab_type": "code",
        "colab": {}
      },
      "source": [
        "class ConvOutputsModels(Model):\n",
        "    def __init__(self, vocab_size, embedding_dim, filter_sizes, num_filters):\n",
        "        super(ConvOutputsModels, self).__init__()\n",
        "\n",
        "        # Embeddings\n",
        "        self.embedding = Embedding(input_dim=vocab_size,\n",
        "                                   output_dim=embedding_dim)\n",
        "        # Convolutional filters\n",
        "        self.convs = []\n",
        "        for filter_size in filter_sizes:\n",
        "            conv = Conv1D(filters=num_filters, kernel_size=filter_size, \n",
        "                          padding='same', activation='relu')\n",
        "            self.convs.append(conv)\n",
        "            \n",
        "    def call(self, x_in, training=False):\n",
        "        \"\"\"Forward pass.\"\"\"\n",
        "\n",
        "        # Embed\n",
        "        x_emb = self.embedding(x_in)\n",
        "\n",
        "        # Convolutions\n",
        "        convs = []\n",
        "        for i in range(len(self.convs)):\n",
        "            z = self.convs[i](x_emb)\n",
        "            convs.append(z)\n",
        "\n",
        "        return convs\n",
        "\n",
        "    def sample(self, input_shape):\n",
        "        x = Input(shape=input_shape)\n",
        "        return Model(inputs=x, outputs=self.call(x)).summary()"
      ],
      "execution_count": 0,
      "outputs": []
    },
    {
      "cell_type": "markdown",
      "metadata": {
        "id": "kCam06jHB2X-",
        "colab_type": "text"
      },
      "source": [
        "### Operations"
      ]
    },
    {
      "cell_type": "code",
      "metadata": {
        "id": "XfWHwZ7DB2gf",
        "colab_type": "code",
        "colab": {
          "base_uri": "https://localhost:8080/",
          "height": 323
        },
        "outputId": "c1d619dd-2839-4852-c8af-f60212be828d"
      },
      "source": [
        "# Initialize model\n",
        "conv_layer_outputs_model = ConvOutputsModels(vocab_size=vocab_size, \n",
        "                                             embedding_dim=EMBEDDING_DIM, \n",
        "                                             filter_sizes=FILTER_SIZES, \n",
        "                                             num_filters=NUM_FILTERS)\n",
        "conv_layer_outputs_model.sample(input_shape=(10,))"
      ],
      "execution_count": 134,
      "outputs": [
        {
          "output_type": "stream",
          "text": [
            "Model: \"model_6\"\n",
            "__________________________________________________________________________________________________\n",
            "Layer (type)                    Output Shape         Param #     Connected to                     \n",
            "==================================================================================================\n",
            "input_8 (InputLayer)            [(None, 10)]         0                                            \n",
            "__________________________________________________________________________________________________\n",
            "embedding_8 (Embedding)         (None, 10, 100)      2991700     input_8[0][0]                    \n",
            "__________________________________________________________________________________________________\n",
            "conv1d_24 (Conv1D)              (None, 10, 50)       10050       embedding_8[0][0]                \n",
            "__________________________________________________________________________________________________\n",
            "conv1d_25 (Conv1D)              (None, 10, 50)       15050       embedding_8[0][0]                \n",
            "__________________________________________________________________________________________________\n",
            "conv1d_26 (Conv1D)              (None, 10, 50)       20050       embedding_8[0][0]                \n",
            "==================================================================================================\n",
            "Total params: 3,036,850\n",
            "Trainable params: 3,036,850\n",
            "Non-trainable params: 0\n",
            "__________________________________________________________________________________________________\n"
          ],
          "name": "stdout"
        }
      ]
    },
    {
      "cell_type": "markdown",
      "metadata": {
        "id": "4fL_exZ2CMP0",
        "colab_type": "text"
      },
      "source": [
        "Since we already trained our model, we'll transfer those weights to our new model."
      ]
    },
    {
      "cell_type": "code",
      "metadata": {
        "id": "Q24ZsZofCkNV",
        "colab_type": "code",
        "colab": {
          "base_uri": "https://localhost:8080/",
          "height": 85
        },
        "outputId": "5d8de9fd-9727-4130-c668-1e776fa77395"
      },
      "source": [
        "# Model's layers\n",
        "conv_layer_outputs_model.layers"
      ],
      "execution_count": 135,
      "outputs": [
        {
          "output_type": "execute_result",
          "data": {
            "text/plain": [
              "[<tensorflow.python.keras.layers.embeddings.Embedding at 0x7feb61c418d0>,\n",
              " <tensorflow.python.keras.layers.convolutional.Conv1D at 0x7feb61c41cc0>,\n",
              " <tensorflow.python.keras.layers.convolutional.Conv1D at 0x7feb61ade128>,\n",
              " <tensorflow.python.keras.layers.convolutional.Conv1D at 0x7feb61ade710>]"
            ]
          },
          "metadata": {
            "tags": []
          },
          "execution_count": 135
        }
      ]
    },
    {
      "cell_type": "code",
      "metadata": {
        "id": "vmlbHbj7CKmT",
        "colab_type": "code",
        "colab": {}
      },
      "source": [
        "# Set embeddings weights\n",
        "conv_layer_outputs_model.layers[0].set_weights(model.layers[0].get_weights())\n",
        "\n",
        "# Set conv weights\n",
        "conv_layer_start_num = 1\n",
        "for layer_num in range(conv_layer_start_num, conv_layer_start_num + len(FILTER_SIZES)):\n",
        "    conv_layer_outputs_model.layers[layer_num].set_weights(model.layers[layer_num].get_weights())"
      ],
      "execution_count": 0,
      "outputs": []
    },
    {
      "cell_type": "code",
      "metadata": {
        "id": "pZQY75xXC4rZ",
        "colab_type": "code",
        "colab": {
          "base_uri": "https://localhost:8080/",
          "height": 68
        },
        "outputId": "bbe15345-6bab-4c00-87fa-8747b34d915b"
      },
      "source": [
        "# Forward pass\n",
        "conv_outputs = conv_layer_outputs_model.predict_generator(generator=inference_generator,\n",
        "                                                          verbose=1)\n",
        "print (len(conv_outputs)) # each filter_size has feature maps\n",
        "print (conv_outputs[0].shape)"
      ],
      "execution_count": 141,
      "outputs": [
        {
          "output_type": "stream",
          "text": [
            "\r1/1 [==============================] - 0s 10ms/step\n",
            "3\n",
            "(1, 11, 50)\n"
          ],
          "name": "stdout"
        }
      ]
    },
    {
      "cell_type": "code",
      "metadata": {
        "id": "sTAS1b7vMn_u",
        "colab_type": "code",
        "colab": {
          "base_uri": "https://localhost:8080/",
          "height": 34
        },
        "outputId": "b27e5c8c-5940-4633-b3dd-a274b1de309d"
      },
      "source": [
        "conv_outputs[0].shape"
      ],
      "execution_count": 138,
      "outputs": [
        {
          "output_type": "execute_result",
          "data": {
            "text/plain": [
              "(1, 11, 50)"
            ]
          },
          "metadata": {
            "tags": []
          },
          "execution_count": 138
        }
      ]
    },
    {
      "cell_type": "code",
      "metadata": {
        "id": "RyC7FJndIFaE",
        "colab_type": "code",
        "colab": {
          "base_uri": "https://localhost:8080/",
          "height": 509
        },
        "outputId": "73ea5e4e-6647-44a5-abe9-669772bd25d3"
      },
      "source": [
        "# Visualize bi-gram filters\n",
        "tokens = untokenize(X_infer[0], X_tokenizer).split()\n",
        "sns.heatmap(conv_outputs[0][0].T, xticklabels=tokens)"
      ],
      "execution_count": 145,
      "outputs": [
        {
          "output_type": "execute_result",
          "data": {
            "text/plain": [
              "<matplotlib.axes._subplots.AxesSubplot at 0x7feb5cfda128>"
            ]
          },
          "metadata": {
            "tags": []
          },
          "execution_count": 145
        },
        {
          "output_type": "display_data",
          "data": {
            "image/png": "[encoded data removed]",
            "text/plain": [
              "<Figure size 504x504 with 2 Axes>"
            ]
          },
          "metadata": {
            "tags": []
          }
        }
      ]
    },
    {
      "cell_type": "markdown",
      "metadata": {
        "id": "cTHPBDzWPI8s",
        "colab_type": "text"
      },
      "source": [
        "1D global max-pooling would extract the highest value from each of our num_filters for each filter size. We could also follow this same approach to figure out which n-gram is most relevant but notice in the heatmap above that many filters don't have much variance. To mitigate this, this [paper](https://www.aclweb.org/anthology/W18-5408/) uses threshold values to determine which filters to use for interpretability. \n",
        "\n",
        "To keep things simple and since the feature map values are fairly normalized, we'll just take the sum of values for each token index and use the index that has the max value as th emost influential index."
      ]
    },
    {
      "cell_type": "code",
      "metadata": {
        "id": "P72CZhU0CtGa",
        "colab_type": "code",
        "colab": {
          "base_uri": "https://localhost:8080/",
          "height": 136
        },
        "outputId": "ed6f836c-323b-493e-af75-42296983b884"
      },
      "source": [
        "sample_index = 0\n",
        "print (f\"Preprocessed text:\\n{untokenize(indices=X_infer[sample_index], tokenizer=X_tokenizer)}\")\n",
        "print (\"\\nMost important n-grams:\")\n",
        "# Process conv outputs for each unique filter size\n",
        "for i, filter_size in enumerate(FILTER_SIZES):\n",
        "    \n",
        "    # Identify most important n-gram\n",
        "    filter_sums = np.sum(conv_outputs[i][sample_index], axis=1)\n",
        "    \n",
        "    # Get corresponding text\n",
        "    start = np.argmax(filter_sums)\n",
        "    gram = \" \".join([X_tokenizer.index_word[index] for index in X_infer[sample_index][start:start+filter_size]])\n",
        "    print (f\"[{filter_size}-gram]: {gram}\")"
      ],
      "execution_count": 154,
      "outputs": [
        {
          "output_type": "stream",
          "text": [
            "Preprocessed text:\n",
            "this weekend the greatest tennis players will fight for the championship\n",
            "\n",
            "Most important n-grams:\n",
            "[2-gram]: tennis players\n",
            "[3-gram]: tennis players will\n",
            "[4-gram]: championship\n"
          ],
          "name": "stdout"
        }
      ]
    },
    {
      "cell_type": "markdown",
      "metadata": {
        "id": "sR3EVo4YTGEg",
        "colab_type": "text"
      },
      "source": [
        "Notice that the 4-gram is just the word \"championship\". This is because 3 <PAD> tokens follow it but we aren't showing those."
      ]
    },
    {
      "cell_type": "markdown",
      "metadata": {
        "id": "kbZPYQ2TH1Jt",
        "colab_type": "text"
      },
      "source": [
        "---\n",
        "<div align=\"center\">\n",
        "\n",
        "Subscribe to our <a href=\"https://practicalai.me/#newsletter\">newsletter</a> and follow us on social media to get the latest updates!\n",
        "\n",
        "<a class=\"ai-header-badge\" target=\"_blank\" href=\"https://github.com/practicalAI/practicalAI\">\n",
        "              <img src=\"https://img.shields.io/github/stars/practicalAI/practicalAI.svg?style=social&label=Star\"></a>&nbsp;\n",
        "            <a class=\"ai-header-badge\" target=\"_blank\" href=\"https://www.linkedin.com/company/practicalai-me\">\n",
        "              <img src=\"https://img.shields.io/badge/style--5eba00.svg?label=LinkedIn&logo=linkedin&style=social\"></a>&nbsp;\n",
        "            <a class=\"ai-header-badge\" target=\"_blank\" href=\"https://twitter.com/practicalAIme\">\n",
        "              <img src=\"https://img.shields.io/twitter/follow/practicalAIme.svg?label=Follow&style=social\">\n",
        "            </a>\n",
        "              </div>\n",
        "\n",
        "</div>"
      ]
    }
  ]
}
